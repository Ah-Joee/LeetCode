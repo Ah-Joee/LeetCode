{
 "cells": [
  {
   "cell_type": "code",
   "execution_count": 27,
   "id": "03faaa42",
   "metadata": {},
   "outputs": [],
   "source": [
    "from collections import defaultdict\n",
    "def calcEquations(equations, values, queries):\n",
    "    # A graph that contains the link between nodes\n",
    "    graph = defaultdict(dict)\n",
    "    n = len(equations)\n",
    "    \n",
    "    # Create graph edges\n",
    "    for i in rang(n):\n",
    "        x,y = equations[i][0], equations[i][1]\n",
    "        graph[x][y] = values[i]\n",
    "        graph[y][x] = 1/values[i]\n",
    "        \n",
    "    def dfs(x,y,visited):\n",
    "        if x not in graph or y not in graph: return -1\n",
    "        if y in graph[x]: return graph[x][y]\n",
    "        \n",
    "        for i in graph[x]:\n",
    "            if i not in visited:\n",
    "                visited.add(i)\n",
    "                temp = dfs(i,y,visited)\n",
    "                \n",
    "                if temp==-1: continue\n",
    "                else: return temp*=graph[x][i]\n",
    "        return -1\n",
    "    \n",
    "    res = []\n",
    "    for p,q in queries:\n",
    "        res.append(dfs(p,q,set()))\n",
    "        \n",
    "    return res"
   ]
  },
  {
   "cell_type": "code",
   "execution_count": 28,
   "id": "8bd08bdd",
   "metadata": {},
   "outputs": [
    {
     "data": {
      "text/plain": [
       "[6.0, 0.5, -1, 1.0, -1]"
      ]
     },
     "execution_count": 28,
     "metadata": {},
     "output_type": "execute_result"
    }
   ],
   "source": [
    "calcEquations([[\"a\",\"b\"],[\"b\",\"c\"]], [2.0,3.0], [[\"a\",\"c\"],[\"b\",\"a\"],[\"a\",\"e\"],[\"a\",\"a\"],[\"x\",\"x\"]])"
   ]
  },
  {
   "cell_type": "code",
   "execution_count": 29,
   "id": "2ae56cbb",
   "metadata": {},
   "outputs": [
    {
     "data": {
      "text/plain": [
       "[0.9999999999999994]"
      ]
     },
     "execution_count": 29,
     "metadata": {},
     "output_type": "execute_result"
    }
   ],
   "source": [
    "equations = [[\"b\",\"a\"],[\"c\",\"b\"],[\"d\",\"c\"],[\"e\",\"d\"],[\"f\",\"e\"],[\"g\",\"f\"],[\"h\",\"g\"],[\"i\",\"h\"],[\"j\",\"i\"],[\"k\",\"j\"],[\"k\",\"l\"],[\"l\",\"m\"],[\"m\",\"n\"],[\"n\",\"o\"],[\"o\",\"p\"],[\"p\",\"q\"],[\"q\",\"r\"],[\"r\",\"s\"],[\"s\",\"t\"],[\"t\",\"u\"]]\n",
    "values = [1e-05,1e-05,1e-05,1e-05,1e-05,1e-05,1e-05,1e-05,1e-05,1e-05,1e-05,1e-05,1e-05,1e-05,1e-05,1e-05,1e-05,1e-05,1e-05,1e-05]\n",
    "queries = [[\"a\",\"u\"]]\n",
    "calcEquations(equations, values, queries)"
   ]
  },
  {
   "cell_type": "code",
   "execution_count": null,
   "id": "04afb1c4",
   "metadata": {},
   "outputs": [],
   "source": [
    "\n",
    "def canFinish(numCourse, prerequisites):\n",
    "    \n",
    "    "
   ]
  }
 ],
 "metadata": {
  "kernelspec": {
   "display_name": "Python 3 (ipykernel)",
   "language": "python",
   "name": "python3"
  },
  "language_info": {
   "codemirror_mode": {
    "name": "ipython",
    "version": 3
   },
   "file_extension": ".py",
   "mimetype": "text/x-python",
   "name": "python",
   "nbconvert_exporter": "python",
   "pygments_lexer": "ipython3",
   "version": "3.11.4"
  }
 },
 "nbformat": 4,
 "nbformat_minor": 5
}
