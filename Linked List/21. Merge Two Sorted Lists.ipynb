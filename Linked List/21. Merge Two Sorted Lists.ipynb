{
 "cells": [
  {
   "cell_type": "markdown",
   "id": "ca8a2aa8",
   "metadata": {},
   "source": [
    "# Problem"
   ]
  },
  {
   "cell_type": "markdown",
   "id": "eaa582be",
   "metadata": {},
   "source": [
    "You are given the heads of two sorted linked lists `list1` and `list2`."
   ]
  },
  {
   "cell_type": "markdown",
   "id": "be8ec560",
   "metadata": {},
   "source": [
    "Merge the two lists into one **sorted** list. This list should be made by splicing together the nodes of the first two lists."
   ]
  },
  {
   "cell_type": "markdown",
   "id": "ca1f835a",
   "metadata": {},
   "source": [
    "Return the head of the merged linked list."
   ]
  },
  {
   "cell_type": "markdown",
   "id": "05cb662e",
   "metadata": {},
   "source": [
    "# Example"
   ]
  },
  {
   "cell_type": "markdown",
   "id": "fecc8747",
   "metadata": {},
   "source": [
    "**Input**: list1 = [1,2,4], list2 = [1,3,4]\\\n",
    "**Output**: [1,1,2,3,4,4]"
   ]
  },
  {
   "cell_type": "markdown",
   "id": "afe4f227",
   "metadata": {},
   "source": [
    "**Input**: list1 = [], list2 = []\\\n",
    "**Output**: []"
   ]
  },
  {
   "cell_type": "markdown",
   "id": "c5fa9354",
   "metadata": {},
   "source": [
    "**Input**: list1 = [], list2 = [0]\\\n",
    "**Output**: [0]"
   ]
  },
  {
   "cell_type": "markdown",
   "id": "9bd8738e",
   "metadata": {},
   "source": [
    "# Solution"
   ]
  },
  {
   "cell_type": "markdown",
   "id": "052045d7",
   "metadata": {},
   "source": [
    "## Code"
   ]
  },
  {
   "cell_type": "code",
   "execution_count": 3,
   "id": "6ab7cec9",
   "metadata": {},
   "outputs": [],
   "source": [
    "class ListNode:\n",
    "    def __init__(self, val=0, next=None):\n",
    "        self.val = val\n",
    "        self.next = next"
   ]
  },
  {
   "cell_type": "code",
   "execution_count": 4,
   "id": "d7108ab3",
   "metadata": {},
   "outputs": [],
   "source": [
    "def mergeTwoLists(list1, list2):\n",
    "    cur = dummy = ListNode()\n",
    "    while list1 and list2:\n",
    "        if list1.val <= list2.val:\n",
    "            cur.next = list1\n",
    "            list1, cur = list1.next, list1\n",
    "        else:\n",
    "            cur.next = list2\n",
    "            list2, cur = list2.next, list2\n",
    "    if list1 or list2:\n",
    "        cur.next = list1 if list1 else list2\n",
    "    return dummy.next"
   ]
  }
 ],
 "metadata": {
  "kernelspec": {
   "display_name": "Python [conda env:.conda-nanoGPT] *",
   "language": "python",
   "name": "conda-env-.conda-nanoGPT-py"
  },
  "language_info": {
   "codemirror_mode": {
    "name": "ipython",
    "version": 3
   },
   "file_extension": ".py",
   "mimetype": "text/x-python",
   "name": "python",
   "nbconvert_exporter": "python",
   "pygments_lexer": "ipython3",
   "version": "3.8.18"
  }
 },
 "nbformat": 4,
 "nbformat_minor": 5
}
