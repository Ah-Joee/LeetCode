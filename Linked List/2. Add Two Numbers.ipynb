{
 "cells": [
  {
   "cell_type": "markdown",
   "metadata": {},
   "source": [
    "# Problem"
   ]
  },
  {
   "cell_type": "markdown",
   "metadata": {},
   "source": [
    "You are given two **non-empty** linked lists representing two non-negative integers. The digits are stored in **reverse order**, and each of their nodes contains a single digit. Add the two numbers and return the sum as a linked list."
   ]
  },
  {
   "cell_type": "markdown",
   "metadata": {},
   "source": [
    "You may assume the two numbers do not contain any leading zero, except the nubmer 0 itself."
   ]
  },
  {
   "cell_type": "markdown",
   "metadata": {},
   "source": [
    "# Example"
   ]
  },
  {
   "cell_type": "code",
   "execution_count": null,
   "metadata": {},
   "outputs": [],
   "source": []
  },
  {
   "cell_type": "markdown",
   "metadata": {},
   "source": [
    "**Input**: l1 = [2,4,3], l2 = [5,6,4]\\\n",
    "**Output**: [7,0,8]\\\n",
    "**Explanation**: 342 + 465 = 807"
   ]
  },
  {
   "cell_type": "markdown",
   "metadata": {},
   "source": [
    "**Input**: l1 = [0], l2 = [0]\\\n",
    "**Output**: [0]"
   ]
  },
  {
   "cell_type": "markdown",
   "metadata": {},
   "source": [
    "**Input**: l1 = [9,9,9,9,9,9,9], l2 = [9,9,9,9]\\\n",
    "**Output**: [9,9,9,9,0,0,0,1]"
   ]
  },
  {
   "cell_type": "markdown",
   "metadata": {},
   "source": [
    "# Solution"
   ]
  },
  {
   "cell_type": "markdown",
   "metadata": {},
   "source": [
    "## Code"
   ]
  },
  {
   "cell_type": "code",
   "execution_count": 33,
   "metadata": {},
   "outputs": [],
   "source": [
    "class ListNode:\n",
    "    def __init__(self, val=0, next=None):\n",
    "        self.val = val\n",
    "        self.next = next\n",
    "\n",
    "def linkedList(arr, pos=-1):\n",
    "    start = cur = ListNode(0)\n",
    "\n",
    "    for a in arr:\n",
    "        newNode = ListNode(a)\n",
    "        cur.next = newNode\n",
    "        cur = cur.next\n",
    "\n",
    "    if pos>=0:\n",
    "        posPoint = start.next\n",
    "        for i in range(pos):\n",
    "            posPoint = posPoint.next\n",
    "        cur.next = posPoint\n",
    "\n",
    "    \n",
    "    return start.next"
   ]
  },
  {
   "cell_type": "code",
   "execution_count": 92,
   "metadata": {},
   "outputs": [],
   "source": [
    "def addTwoNubers(l1, l2):\n",
    "    ans = ListNode(0)\n",
    "    start = ans\n",
    "    carry = 0\n",
    "\n",
    "    while l1 or l2 or carry:\n",
    "        val1 = l1.val if l1 else 0\n",
    "        val2 = l2.val if l2 else 0\n",
    "\n",
    "        s = val1 + val2 + carry\n",
    "        carry = s//10\n",
    "        ans.next = ListNode(s%10)\n",
    "        ans = ans.next\n",
    "\n",
    "        if l1: l1 = l1.next\n",
    "        if l2: l2 = l2.next\n",
    "\n",
    "    return start.next\n",
    "    "
   ]
  },
  {
   "cell_type": "markdown",
   "metadata": {},
   "source": [
    "## Test"
   ]
  },
  {
   "cell_type": "code",
   "execution_count": 106,
   "metadata": {},
   "outputs": [],
   "source": [
    "def test(f):\n",
    "\n",
    "    def helper(l1, l2, t):\n",
    "        i1 = f(linkedList(l1), linkedList(l2))\n",
    "        i2 = linkedList(t)\n",
    "        count = 0\n",
    "        while i1 and i2:\n",
    "            if i1.val == i2.val:\n",
    "                count += 1\n",
    "            i1, i2 = i1.next, i2.next\n",
    "        return count==len(t)\n",
    "\n",
    "    test1 = helper([2,4,3], [5,6,4], [7,0,8])\n",
    "    test2 = helper([0], [0], [0])\n",
    "    test3 = helper([9,9,9,9,9,9,9], [9,9,9,9], [8,9,9,9,0,0,0,1])\n",
    "    return test1 and test2 and test3\n",
    "    "
   ]
  },
  {
   "cell_type": "code",
   "execution_count": 107,
   "metadata": {},
   "outputs": [
    {
     "data": {
      "text/plain": [
       "True"
      ]
     },
     "execution_count": 107,
     "metadata": {},
     "output_type": "execute_result"
    }
   ],
   "source": [
    "test(addTwoNubers)"
   ]
  }
 ],
 "metadata": {
  "kernelspec": {
   "display_name": "Python 3",
   "language": "python",
   "name": "python3"
  },
  "language_info": {
   "codemirror_mode": {
    "name": "ipython",
    "version": 3
   },
   "file_extension": ".py",
   "mimetype": "text/x-python",
   "name": "python",
   "nbconvert_exporter": "python",
   "pygments_lexer": "ipython3",
   "version": "3.9.13"
  },
  "orig_nbformat": 4
 },
 "nbformat": 4,
 "nbformat_minor": 2
}
