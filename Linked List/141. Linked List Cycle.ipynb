{
 "cells": [
  {
   "cell_type": "markdown",
   "id": "f9450fc6",
   "metadata": {},
   "source": [
    "# Problem"
   ]
  },
  {
   "cell_type": "markdown",
   "id": "c0f3718f",
   "metadata": {},
   "source": [
    "Given `head`, the head of a linked list, determine if the linked list has a cycle in it."
   ]
  },
  {
   "cell_type": "markdown",
   "id": "99c677ef",
   "metadata": {},
   "source": [
    "There is a cycle in a linked list if there is some node in the list that can be reached again by continuously following the `next` pointer. Internally, `pos` is used to denote the index of the node that tail's `next` pointer is connected to. **Note that `pos` is not passed as a parameter**."
   ]
  },
  {
   "cell_type": "markdown",
   "id": "88147272",
   "metadata": {},
   "source": [
    "Return `true` if there is a cycle in the linked list. Otherwise, return `false`."
   ]
  },
  {
   "cell_type": "markdown",
   "id": "ef83a58c",
   "metadata": {},
   "source": [
    "# Example"
   ]
  },
  {
   "cell_type": "markdown",
   "id": "dadcd366",
   "metadata": {},
   "source": [
    "**Input**: head = [3,2,0,-4], pos = 1\\\n",
    "**Output**: true"
   ]
  },
  {
   "cell_type": "markdown",
   "id": "95c5c57a",
   "metadata": {},
   "source": [
    "**Input**: head = [1,2], pos = 0\\\n",
    "**Output**: true"
   ]
  },
  {
   "cell_type": "markdown",
   "id": "2c67e563",
   "metadata": {},
   "source": [
    "**Input**: [1], pos = -1\\\n",
    "**Output**: false"
   ]
  },
  {
   "cell_type": "markdown",
   "id": "837fdcae",
   "metadata": {},
   "source": [
    "# Solution"
   ]
  },
  {
   "cell_type": "markdown",
   "id": "cc089fd3",
   "metadata": {},
   "source": [
    "## Idea"
   ]
  },
  {
   "cell_type": "markdown",
   "id": "dea2475a",
   "metadata": {},
   "source": [
    "Use two pointer, `slow` and `fast` where `fast` moves faster than `slow`. If there is a cycle, `faster` will eventually catch up with `slow`."
   ]
  },
  {
   "cell_type": "markdown",
   "id": "71b472c0",
   "metadata": {},
   "source": [
    "## Code"
   ]
  },
  {
   "cell_type": "markdown",
   "id": "1bc29baa",
   "metadata": {},
   "source": [
    "### ListNode Class"
   ]
  },
  {
   "cell_type": "code",
   "execution_count": 6,
   "id": "246b687c",
   "metadata": {},
   "outputs": [],
   "source": [
    "class ListNode:\n",
    "    def __init__(self, x):\n",
    "        self.val = x\n",
    "        self.next = None\n",
    "\n",
    "def linkedList(arr, pos=-1):\n",
    "    start = cur = ListNode(0)\n",
    "\n",
    "    for a in arr:\n",
    "        newNode = ListNode(a)\n",
    "        cur.next = newNode\n",
    "        cur = cur.next\n",
    "\n",
    "    if pos>=0:\n",
    "        posPoint = start.next\n",
    "        for i in range(pos):\n",
    "            posPoint = posPoint.next\n",
    "        cur.next = posPoint\n",
    "\n",
    "    \n",
    "    return start.next"
   ]
  },
  {
   "cell_type": "markdown",
   "id": "762c8e8f",
   "metadata": {},
   "source": [
    "### Main"
   ]
  },
  {
   "cell_type": "code",
   "execution_count": 13,
   "id": "3969285a",
   "metadata": {},
   "outputs": [],
   "source": [
    "def hasCycle(head):\n",
    "    slow, fast = head, head\n",
    "\n",
    "    while slow and fast and fast.next:\n",
    "        slow = slow.next\n",
    "        fast = fast.next.next\n",
    "\n",
    "        if slow==fast:\n",
    "            return True\n",
    "        \n",
    "    return False"
   ]
  },
  {
   "cell_type": "markdown",
   "id": "e54a04e9",
   "metadata": {},
   "source": [
    "## Test"
   ]
  },
  {
   "cell_type": "code",
   "execution_count": 14,
   "id": "c1751c29",
   "metadata": {},
   "outputs": [],
   "source": [
    "def test(f):\n",
    "    test1 = f(linkedList([3,2,0,4], 1))==True\n",
    "    test2 = f(linkedList([1,2], 0))==True\n",
    "    test3 = f(linkedList([1], -1))==False\n",
    "    return test1 and test2 and test3"
   ]
  },
  {
   "cell_type": "code",
   "execution_count": 15,
   "id": "8531dde5",
   "metadata": {},
   "outputs": [
    {
     "data": {
      "text/plain": [
       "True"
      ]
     },
     "execution_count": 15,
     "metadata": {},
     "output_type": "execute_result"
    }
   ],
   "source": [
    "test(hasCycle)"
   ]
  }
 ],
 "metadata": {
  "kernelspec": {
   "display_name": "Python 3",
   "language": "python",
   "name": "python3"
  },
  "language_info": {
   "codemirror_mode": {
    "name": "ipython",
    "version": 3
   },
   "file_extension": ".py",
   "mimetype": "text/x-python",
   "name": "python",
   "nbconvert_exporter": "python",
   "pygments_lexer": "ipython3",
   "version": "3.9.13"
  }
 },
 "nbformat": 4,
 "nbformat_minor": 5
}
