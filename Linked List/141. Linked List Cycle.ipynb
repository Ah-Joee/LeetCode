{
 "cells": [
  {
   "cell_type": "markdown",
   "id": "f9450fc6",
   "metadata": {},
   "source": [
    "# Problem"
   ]
  },
  {
   "cell_type": "markdown",
   "id": "c0f3718f",
   "metadata": {},
   "source": [
    "Given `head`, the head of a linked list, determine if the linked list has a cycle in it."
   ]
  },
  {
   "cell_type": "markdown",
   "id": "99c677ef",
   "metadata": {},
   "source": [
    "There is a cycle in a linked list if there is some node in the list that can be reached again by continuously following the `next` pointer. Internally, `pos` is used to denote the index of the node that tail's `next` pointer is connected to. **Note that `pos` is not passed as a parameter**."
   ]
  },
  {
   "cell_type": "markdown",
   "id": "88147272",
   "metadata": {},
   "source": [
    "Return `true` if there is a cycle in the linked list. Otherwise, return `false`."
   ]
  },
  {
   "cell_type": "markdown",
   "id": "ef83a58c",
   "metadata": {},
   "source": [
    "# Example"
   ]
  },
  {
   "cell_type": "markdown",
   "id": "dadcd366",
   "metadata": {},
   "source": [
    "**Input**: head = [3,2,0,-4], pos = 1\\\n",
    "**Output**: true"
   ]
  },
  {
   "cell_type": "markdown",
   "id": "95c5c57a",
   "metadata": {},
   "source": [
    "**Input**: head = [1,2], pos = 0\\\n",
    "**Output**: true"
   ]
  },
  {
   "cell_type": "markdown",
   "id": "2c67e563",
   "metadata": {},
   "source": [
    "**Input**: [1], pos = -1\\\n",
    "**Output**: false"
   ]
  },
  {
   "cell_type": "markdown",
   "id": "837fdcae",
   "metadata": {},
   "source": [
    "# Solution"
   ]
  },
  {
   "cell_type": "markdown",
   "id": "cc089fd3",
   "metadata": {},
   "source": [
    "## Idea"
   ]
  },
  {
   "cell_type": "markdown",
   "id": "dea2475a",
   "metadata": {},
   "source": [
    "Use two pointer, `slow` and `fast` where `fast` moves faster than `slow`. If there is a cycle, `faster` will eventually catch up with `slow`."
   ]
  },
  {
   "cell_type": "markdown",
   "id": "71b472c0",
   "metadata": {},
   "source": [
    "## Code"
   ]
  },
  {
   "cell_type": "code",
   "execution_count": null,
   "id": "3969285a",
   "metadata": {},
   "outputs": [],
   "source": [
    "def hasCycle()"
   ]
  }
 ],
 "metadata": {
  "kernelspec": {
   "display_name": "Python [conda env:.conda-nanoGPT] *",
   "language": "python",
   "name": "conda-env-.conda-nanoGPT-py"
  },
  "language_info": {
   "codemirror_mode": {
    "name": "ipython",
    "version": 3
   },
   "file_extension": ".py",
   "mimetype": "text/x-python",
   "name": "python",
   "nbconvert_exporter": "python",
   "pygments_lexer": "ipython3",
   "version": "3.8.18"
  }
 },
 "nbformat": 4,
 "nbformat_minor": 5
}
