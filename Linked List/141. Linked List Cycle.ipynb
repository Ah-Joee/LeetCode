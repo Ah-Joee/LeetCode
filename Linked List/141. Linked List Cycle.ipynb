{
 "cells": [
  {
   "cell_type": "markdown",
   "id": "c8d11292",
   "metadata": {},
   "source": [
    "# Problem"
   ]
  },
  {
   "cell_type": "markdown",
   "id": "b775e057",
   "metadata": {},
   "source": [
    "Given `head`, the head of a linked list, determine if the linked list has a cycle in it."
   ]
  },
  {
   "cell_type": "markdown",
   "id": "0af41693",
   "metadata": {},
   "source": [
    "There is a cycle in a linked list if there is some node in the list that can be reached again by continuously following the `next` pointer. Internally, `pos` is used to denote the index of the node that tail's `next` pointer is connected to. **Note that `pos` is not passed as a parameter**."
   ]
  },
  {
   "cell_type": "markdown",
   "id": "cfecfb1d",
   "metadata": {},
   "source": [
    "Return `true` if there is a cycle in the linked list. Otherwise, return `false`."
   ]
  },
  {
   "cell_type": "markdown",
   "id": "047aab69",
   "metadata": {},
   "source": [
    "# Example"
   ]
  },
  {
   "cell_type": "markdown",
   "id": "cf70e1f1",
   "metadata": {},
   "source": [
    "**Input**: head = [3,2,0,-4], pos = 1\\\n",
    "**Output**: true"
   ]
  },
  {
   "cell_type": "markdown",
   "id": "efe2bb54",
   "metadata": {},
   "source": [
    "**Input**: head = [1,2], pos = 0\\\n",
    "**Output**: true"
   ]
  },
  {
   "cell_type": "markdown",
   "id": "2db0c2a2",
   "metadata": {},
   "source": [
    "**Input**: [1], pos = -1\\\n",
    "**Output**: false"
   ]
  },
  {
   "cell_type": "markdown",
   "id": "62cc1c69",
   "metadata": {},
   "source": [
    "# Solution"
   ]
  },
  {
   "cell_type": "markdown",
   "id": "6abe9018",
   "metadata": {},
   "source": [
    "## Idea"
   ]
  },
  {
   "cell_type": "markdown",
   "id": "eeccbcba",
   "metadata": {},
   "source": [
    "Use two pointer, `slow` and `fast` where `fast` moves faster than `slow`. If there is a cycle, `faster` will eventually catch up with `slow`."
   ]
  },
  {
   "cell_type": "markdown",
   "id": "416dd3d6",
   "metadata": {},
   "source": [
    "## Code"
   ]
  },
  {
   "cell_type": "code",
   "execution_count": 2,
   "id": "eef8eeee",
   "metadata": {},
   "outputs": [],
   "source": [
    "def hasCycle(head):\n",
    "    slow = head\n",
    "    fast = head\n",
    "    while slow and fast and fast.next:\n",
    "        slow = slow.next\n",
    "        fast = fast.next.next\n",
    "        if slow == fast:\n",
    "            return True\n",
    "    return False"
   ]
  }
 ],
 "metadata": {
  "kernelspec": {
   "display_name": "Python [conda env:.conda-nanoGPT] *",
   "language": "python",
   "name": "conda-env-.conda-nanoGPT-py"
  },
  "language_info": {
   "codemirror_mode": {
    "name": "ipython",
    "version": 3
   },
   "file_extension": ".py",
   "mimetype": "text/x-python",
   "name": "python",
   "nbconvert_exporter": "python",
   "pygments_lexer": "ipython3",
   "version": "3.8.18"
  }
 },
 "nbformat": 4,
 "nbformat_minor": 5
}
