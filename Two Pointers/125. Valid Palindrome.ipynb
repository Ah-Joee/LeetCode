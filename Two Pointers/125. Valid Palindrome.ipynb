{
 "cells": [
  {
   "cell_type": "markdown",
   "id": "5c0a6012",
   "metadata": {},
   "source": [
    "# Problem"
   ]
  },
  {
   "cell_type": "markdown",
   "id": "efd3d2f8",
   "metadata": {},
   "source": [
    "A phrase is **palindrome** if, after converting all uppercase letters into lowercase letters and removing all non-alphanumeric characters, it reads the same forward and backward, Alphanumeric characters include letters and numbers."
   ]
  },
  {
   "cell_type": "markdown",
   "id": "ae9fa405",
   "metadata": {},
   "source": [
    "Given string $s$, return $true$ if it is a **palindrome** or $false$ otherwise"
   ]
  },
  {
   "cell_type": "markdown",
   "id": "b0d65c2d",
   "metadata": {},
   "source": [
    "# Examples"
   ]
  },
  {
   "cell_type": "markdown",
   "id": "5f6e4cea",
   "metadata": {},
   "source": [
    "**Input**: s = \"A man, a plan, a canal: Panama\"\\\n",
    "**Output**: true\\\n",
    "**Explaination**: \"amanaplanacanalpanama\" is palindrome."
   ]
  },
  {
   "cell_type": "markdown",
   "id": "dcb2e805",
   "metadata": {},
   "source": [
    "**Input**: s = \"race a car\"\\\n",
    "**Output**: false\\\n",
    "**Explaination**: \"raceacar\" is not a palindrome."
   ]
  },
  {
   "cell_type": "markdown",
   "id": "6deb56b1",
   "metadata": {},
   "source": [
    "**Input**: s = \" \"\\\n",
    "**Output**: true\\\n",
    "**Explaination**: s is an empty string \"\" after removing non-alphanumeric characters.\n",
    "Since an empty string reads the same forward and backward, it is a palindrome."
   ]
  },
  {
   "cell_type": "markdown",
   "id": "73a49db2",
   "metadata": {},
   "source": [
    "# Solution"
   ]
  },
  {
   "cell_type": "markdown",
   "id": "9d7f48aa",
   "metadata": {},
   "source": [
    "## Idea"
   ]
  },
  {
   "cell_type": "markdown",
   "id": "317d7d10",
   "metadata": {},
   "source": [
    "Convert to lowercase letters, remove all non-alphanumeric characters, then flip it to compare with the original."
   ]
  },
  {
   "cell_type": "markdown",
   "id": "4ef5210d",
   "metadata": {},
   "source": [
    "## Code (Myself)"
   ]
  },
  {
   "cell_type": "code",
   "execution_count": 31,
   "id": "74f08658",
   "metadata": {},
   "outputs": [],
   "source": [
    "def isPalindrome(s):\n",
    "    cleanString = \"\"\n",
    "    for ch in s.lower():\n",
    "        if ch.isalnum():\n",
    "            cleanString += ch\n",
    "    return cleanString[::-1] == cleanString"
   ]
  },
  {
   "cell_type": "markdown",
   "id": "38786d17",
   "metadata": {},
   "source": [
    "## Test"
   ]
  },
  {
   "cell_type": "code",
   "execution_count": 32,
   "id": "717514d6",
   "metadata": {},
   "outputs": [],
   "source": [
    "def test():\n",
    "    test1 = isPalindrome(\"A man, a plan, a canal: Panama\")==True\n",
    "    test2 = isPalindrome(\"race a car\") == False\n",
    "    test3 = isPalindrome(\"\") == True\n",
    "    return test1 and test2 and test3"
   ]
  },
  {
   "cell_type": "code",
   "execution_count": 33,
   "id": "88b4850c",
   "metadata": {},
   "outputs": [
    {
     "data": {
      "text/plain": [
       "True"
      ]
     },
     "execution_count": 33,
     "metadata": {},
     "output_type": "execute_result"
    }
   ],
   "source": [
    "test()"
   ]
  }
 ],
 "metadata": {
  "kernelspec": {
   "display_name": "Python [conda env:.conda-nanoGPT] *",
   "language": "python",
   "name": "conda-env-.conda-nanoGPT-py"
  },
  "language_info": {
   "codemirror_mode": {
    "name": "ipython",
    "version": 3
   },
   "file_extension": ".py",
   "mimetype": "text/x-python",
   "name": "python",
   "nbconvert_exporter": "python",
   "pygments_lexer": "ipython3",
   "version": "3.8.18"
  }
 },
 "nbformat": 4,
 "nbformat_minor": 5
}
