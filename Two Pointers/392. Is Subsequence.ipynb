{
 "cells": [
  {
   "cell_type": "markdown",
   "id": "1d524fdd",
   "metadata": {},
   "source": [
    "# Problem"
   ]
  },
  {
   "cell_type": "markdown",
   "id": "14e3e905",
   "metadata": {},
   "source": [
    "Given two strings `s` and `t`, return `true` if `s` is a **subsequence** of `t`, or false otherwise."
   ]
  },
  {
   "cell_type": "markdown",
   "id": "f997e7f1",
   "metadata": {},
   "source": [
    "A **subsequence** of a string is a new string that is formed from the original string by eleting some (can be none) of the characters without disturbing the relative positions of the remaining characters (i.e., `\"ace\"` is a subseqeunce of $\\underline{a}b\\underline{c}d\\underline{e}$ while `aec` is not."
   ]
  },
  {
   "cell_type": "markdown",
   "id": "c2504a47",
   "metadata": {},
   "source": [
    "# Examples"
   ]
  },
  {
   "cell_type": "markdown",
   "id": "22d9d747",
   "metadata": {},
   "source": [
    "**Input**: s = 'abc', t = 'ahbgdc'\\\n",
    "**Output**: true"
   ]
  },
  {
   "cell_type": "markdown",
   "id": "dd3408b2",
   "metadata": {},
   "source": [
    "**Input**: s = 'axc', t = 'ahbgdc'\\\n",
    "**Output**: false"
   ]
  },
  {
   "cell_type": "markdown",
   "id": "1178b6ab",
   "metadata": {},
   "source": [
    "# Solution"
   ]
  },
  {
   "cell_type": "markdown",
   "id": "c748792e",
   "metadata": {},
   "source": [
    "## Idea"
   ]
  },
  {
   "cell_type": "markdown",
   "id": "afe578a9",
   "metadata": {},
   "source": [
    "For each words in `s`, loop through `t` starting from last character's position. If there cannot found any match, return false."
   ]
  },
  {
   "cell_type": "markdown",
   "id": "11dfab64",
   "metadata": {},
   "source": [
    "## Code"
   ]
  },
  {
   "cell_type": "code",
   "execution_count": 77,
   "id": "02518ef8",
   "metadata": {},
   "outputs": [],
   "source": [
    "def isSubsequence(s, t):\n",
    "    position = 0\n",
    "\n",
    "    for i in range(len(s)):\n",
    "        notIn = True\n",
    "        for j in range(position, len(t)):\n",
    "            if s[i] == t[j]:\n",
    "                notIn = False\n",
    "                position = j+1\n",
    "                break\n",
    "        if notIn:\n",
    "            return False\n",
    "    return True"
   ]
  },
  {
   "cell_type": "markdown",
   "id": "1adc1dd5",
   "metadata": {},
   "source": [
    "## Test"
   ]
  },
  {
   "cell_type": "code",
   "execution_count": 84,
   "id": "7ec99347",
   "metadata": {},
   "outputs": [
    {
     "data": {
      "text/plain": [
       "True"
      ]
     },
     "execution_count": 84,
     "metadata": {},
     "output_type": "execute_result"
    }
   ],
   "source": [
    "def test(f):\n",
    "    test1 = f(\"abc\", \"ahbgdc\")==True\n",
    "    test2 = f(\"axc\", \"ahbgdc\")==False\n",
    "    test3 = f(\"\", \"abcdefg\")==True\n",
    "    test4 = f(\"abc\", \"\")==False\n",
    "    test5 = f(\"acb\", 'ahbgdc')==False\n",
    "    test6 = f(\"twn\",\"xxxxxxxxxxxxxxxxxxxxxxxxxxxxxxtxxxxxxxxxxxxxxxxxxxxwxxxxxxxxxxxxxxxxxxxxxxxxxn\")==True\n",
    "    return test1 and test2 and test3 and test4 and test5 and test6\n",
    "test(isSubsequence)"
   ]
  },
  {
   "cell_type": "markdown",
   "id": "408644c2",
   "metadata": {},
   "source": [
    "## Better Solution"
   ]
  },
  {
   "cell_type": "code",
   "execution_count": 85,
   "id": "dc613b14",
   "metadata": {},
   "outputs": [],
   "source": [
    "def isSubsequence2(s, t):\n",
    "    i, j = 0, 0\n",
    "    while i < len(s) and j < len(t):\n",
    "        if s[i] == t[j]:\n",
    "            i += 1\n",
    "        j += 1\n",
    "    return i == len(s)"
   ]
  },
  {
   "cell_type": "code",
   "execution_count": 86,
   "id": "859dfb23",
   "metadata": {},
   "outputs": [
    {
     "data": {
      "text/plain": [
       "True"
      ]
     },
     "execution_count": 86,
     "metadata": {},
     "output_type": "execute_result"
    }
   ],
   "source": [
    "test(isSubsequence2)"
   ]
  }
 ],
 "metadata": {
  "kernelspec": {
   "display_name": "Python [conda env:.conda-nanoGPT] *",
   "language": "python",
   "name": "conda-env-.conda-nanoGPT-py"
  },
  "language_info": {
   "codemirror_mode": {
    "name": "ipython",
    "version": 3
   },
   "file_extension": ".py",
   "mimetype": "text/x-python",
   "name": "python",
   "nbconvert_exporter": "python",
   "pygments_lexer": "ipython3",
   "version": "3.8.18"
  }
 },
 "nbformat": 4,
 "nbformat_minor": 5
}
