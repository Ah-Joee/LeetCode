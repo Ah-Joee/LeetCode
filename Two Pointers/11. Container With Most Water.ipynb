{
 "cells": [
  {
   "cell_type": "markdown",
   "metadata": {},
   "source": [
    "# Problem"
   ]
  },
  {
   "cell_type": "markdown",
   "metadata": {},
   "source": [
    "You are given an integer array `height` of length `n` vertical lines drawn such taht the two endpoints of the `ith` line are `(i,0)` and `(i, height[i])`."
   ]
  },
  {
   "cell_type": "markdown",
   "metadata": {},
   "source": [
    "Find two lines that togerther with the x-axis form a container, such that hte container contains the most water."
   ]
  },
  {
   "cell_type": "markdown",
   "metadata": {},
   "source": [
    "Return the maximum amount of water a container can store."
   ]
  },
  {
   "cell_type": "markdown",
   "metadata": {},
   "source": [
    "# Example"
   ]
  },
  {
   "cell_type": "markdown",
   "metadata": {},
   "source": [
    "**Input**: height = [1,8,6,2,5,4,8,3,7]\\\n",
    "**Output**: 49"
   ]
  },
  {
   "cell_type": "markdown",
   "metadata": {},
   "source": [
    "**Input**: height = [1,1]\\\n",
    "**Output**: 1"
   ]
  },
  {
   "cell_type": "code",
   "execution_count": 2,
   "metadata": {},
   "outputs": [],
   "source": [
    "def maxArea(height):\n",
    "    if len(height)==2: return min(height[0], height[1])\n",
    "\n",
    "    left, right = 0, len(height)-1\n",
    "    res = 0\n",
    "    while left < right:\n",
    "        area = (right-left) * min(height[left], height[right])\n",
    "        res = max(res, area)\n",
    "\n",
    "        if height[left] < height[right]: left += 1\n",
    "        else: right -= 1\n",
    "\n",
    "    return res    "
   ]
  },
  {
   "cell_type": "code",
   "execution_count": 3,
   "metadata": {},
   "outputs": [],
   "source": [
    "def test(f):\n",
    "    test1 = f([1,8,6,2,5,4,8,3,7])==49\n",
    "    test2 = f([1,1])==1\n",
    "    return test1 and test2"
   ]
  },
  {
   "cell_type": "code",
   "execution_count": 4,
   "metadata": {},
   "outputs": [
    {
     "data": {
      "text/plain": [
       "True"
      ]
     },
     "execution_count": 4,
     "metadata": {},
     "output_type": "execute_result"
    }
   ],
   "source": [
    "test(maxArea)"
   ]
  }
 ],
 "metadata": {
  "kernelspec": {
   "display_name": "Python 3",
   "language": "python",
   "name": "python3"
  },
  "language_info": {
   "codemirror_mode": {
    "name": "ipython",
    "version": 3
   },
   "file_extension": ".py",
   "mimetype": "text/x-python",
   "name": "python",
   "nbconvert_exporter": "python",
   "pygments_lexer": "ipython3",
   "version": "3.9.6"
  }
 },
 "nbformat": 4,
 "nbformat_minor": 2
}
