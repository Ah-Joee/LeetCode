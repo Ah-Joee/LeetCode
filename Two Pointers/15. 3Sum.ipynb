{
 "cells": [
  {
   "cell_type": "markdown",
   "metadata": {},
   "source": [
    "# Problem"
   ]
  },
  {
   "cell_type": "markdown",
   "metadata": {},
   "source": [
    "Given an integer array nubmers, return all the truplets `[nums[i], nums[j], nums[k]]` such that `i != j`, `i != k`, and `j != k` and `nums[i] + nums[j] + nums[k] == 0`."
   ]
  },
  {
   "cell_type": "markdown",
   "metadata": {},
   "source": [
    "Notice that the solution set must not contain duplciate triplets."
   ]
  },
  {
   "cell_type": "markdown",
   "metadata": {},
   "source": [
    "# Example"
   ]
  },
  {
   "cell_type": "markdown",
   "metadata": {},
   "source": [
    "**Input**: nums = [-1,0,1,2,-1,-4]\\\n",
    "**Output**: [[-1,-1,2],[-1,0,1]]"
   ]
  },
  {
   "cell_type": "markdown",
   "metadata": {},
   "source": [
    "**Input**: nums = [0,1,1]\\\n",
    "**Output**: []"
   ]
  },
  {
   "cell_type": "markdown",
   "metadata": {},
   "source": [
    "**Input**: nums = [0,0,0]\\\n",
    "**Output**: [[0,0,0]]"
   ]
  },
  {
   "cell_type": "markdown",
   "metadata": {},
   "source": [
    "# Solution"
   ]
  },
  {
   "cell_type": "code",
   "execution_count": 1,
   "metadata": {},
   "outputs": [
    {
     "data": {
      "text/plain": [
       "[-4, -1, -1, 0, 1, 2]"
      ]
     },
     "execution_count": 1,
     "metadata": {},
     "output_type": "execute_result"
    }
   ],
   "source": [
    "nums = [-1,0,1,2,-1,-4]\n",
    "nums.sort()\n",
    "nums"
   ]
  },
  {
   "cell_type": "code",
   "execution_count": 2,
   "metadata": {},
   "outputs": [],
   "source": [
    "def threeSum(nums):\n",
    "    if not nums: return []\n",
    "\n",
    "    nums.sort()\n",
    "    triplet = set()\n",
    "\n",
    "    for i in range(len(nums)):\n",
    "        j, k = i+1, len(nums)-1\n",
    "\n",
    "        while j < k:\n",
    "            s = nums[i]+nums[j]+nums[k]\n",
    "            if s==0:\n",
    "                triplet.add((nums[i], nums[j], nums[k]))\n",
    "                j += 1\n",
    "                k -= 1\n",
    "            elif s > 0: k-=1\n",
    "            else: j+=1\n",
    "\n",
    "    return triplet         \n"
   ]
  },
  {
   "cell_type": "code",
   "execution_count": 3,
   "metadata": {},
   "outputs": [],
   "source": [
    "def test(f):\n",
    "    test1 = f([-1,0,1,2,-1,-4])=={(-1,-1,2),(-1,0,1)}\n",
    "    test2 = f([0,1,1])==set()\n",
    "    test3 = f([0,0,0])=={(0,0,0)}\n",
    "    return test1 and test2 and test3"
   ]
  },
  {
   "cell_type": "code",
   "execution_count": 4,
   "metadata": {},
   "outputs": [
    {
     "data": {
      "text/plain": [
       "True"
      ]
     },
     "execution_count": 4,
     "metadata": {},
     "output_type": "execute_result"
    }
   ],
   "source": [
    "test(threeSum)"
   ]
  }
 ],
 "metadata": {
  "kernelspec": {
   "display_name": "Python 3",
   "language": "python",
   "name": "python3"
  },
  "language_info": {
   "codemirror_mode": {
    "name": "ipython",
    "version": 3
   },
   "file_extension": ".py",
   "mimetype": "text/x-python",
   "name": "python",
   "nbconvert_exporter": "python",
   "pygments_lexer": "ipython3",
   "version": "3.9.13"
  }
 },
 "nbformat": 4,
 "nbformat_minor": 2
}
