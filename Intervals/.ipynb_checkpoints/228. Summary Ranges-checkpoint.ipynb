{
 "cells": [
  {
   "cell_type": "markdown",
   "id": "b895906b",
   "metadata": {},
   "source": [
    "# Problem"
   ]
  },
  {
   "cell_type": "markdown",
   "id": "b5aea82e",
   "metadata": {},
   "source": [
    "You are given a **sorted unique** integer array `nums`."
   ]
  },
  {
   "cell_type": "markdown",
   "id": "4458de8c",
   "metadata": {},
   "source": [
    "A **range** `[a,b]` is the set of all integers from `a` to `b` (inclusive)."
   ]
  },
  {
   "cell_type": "markdown",
   "id": "7c56e994",
   "metadata": {},
   "source": [
    "Return the **smallest sorted** list of ranges that **cover all the numbers in teh array exactly**. That is, each element of `nums` is covered by exactly one of teh ranges, and there is no integer `x` such that `x` is in one of the ranges but not in `nums`."
   ]
  },
  {
   "cell_type": "markdown",
   "id": "f1415a2d",
   "metadata": {},
   "source": [
    "Each range `[a,b]` in the list should be output as:\n",
    "- `\"a->b\"` if `a != b`\n",
    "- `\"a\"` if `a == b`"
   ]
  },
  {
   "cell_type": "markdown",
   "id": "a22d72c9",
   "metadata": {},
   "source": [
    "# Example"
   ]
  },
  {
   "cell_type": "markdown",
   "id": "c34b3fd9",
   "metadata": {},
   "source": [
    "**Input**: nums = [0,1,2,4,5,7]\\\n",
    "**Output**: [\"0->2\", \"4->5\", \"7\"]"
   ]
  },
  {
   "cell_type": "markdown",
   "id": "0d649430",
   "metadata": {},
   "source": [
    "**Input**: nums = [0,2,3,4,6,8,9]\\\n",
    "**Output**: [\"0\", \"2->4\", \"6\", \"8->9\"]"
   ]
  },
  {
   "cell_type": "markdown",
   "id": "c73165c0",
   "metadata": {},
   "source": [
    "# Solution"
   ]
  },
  {
   "cell_type": "markdown",
   "id": "aa71422b",
   "metadata": {},
   "source": [
    "## Idea"
   ]
  },
  {
   "cell_type": "markdown",
   "id": "a450cdb0",
   "metadata": {},
   "source": [
    "If the last sub-list in `res` equals to the previous element plus 1, update that list, else append another list"
   ]
  },
  {
   "cell_type": "markdown",
   "id": "43d84b69",
   "metadata": {},
   "source": [
    "## Code"
   ]
  },
  {
   "cell_type": "code",
   "execution_count": 31,
   "id": "ca9cd533",
   "metadata": {},
   "outputs": [],
   "source": [
    "def summaryRanges(nums):\n",
    "    res = []\n",
    "    for n in (nums):\n",
    "        if res and res[-1][1] == n-1:\n",
    "            res[-1][1] = n\n",
    "        else:\n",
    "            res.append([n,n])\n",
    "    return [f'{x}->{y}' if x!=y else f'{x}' for x, y in res]"
   ]
  },
  {
   "cell_type": "markdown",
   "id": "cc75ae0a",
   "metadata": {},
   "source": [
    "## Test"
   ]
  },
  {
   "cell_type": "code",
   "execution_count": 33,
   "id": "a21640b3",
   "metadata": {},
   "outputs": [],
   "source": [
    "def test(f):\n",
    "    test1 = f([0,1,2,4,5,7])==[\"0->2\",\"4->5\",\"7\"]\n",
    "    test2 = f([0,2,3,4,6,8,9])==[\"0\",\"2->4\",\"6\",\"8->9\"]\n",
    "    return test1 and test2"
   ]
  },
  {
   "cell_type": "code",
   "execution_count": 34,
   "id": "71055d8c",
   "metadata": {},
   "outputs": [
    {
     "data": {
      "text/plain": [
       "True"
      ]
     },
     "execution_count": 34,
     "metadata": {},
     "output_type": "execute_result"
    }
   ],
   "source": [
    "test(summaryRanges)"
   ]
  }
 ],
 "metadata": {
  "kernelspec": {
   "display_name": "Python [conda env:.conda-nanoGPT] *",
   "language": "python",
   "name": "conda-env-.conda-nanoGPT-py"
  },
  "language_info": {
   "codemirror_mode": {
    "name": "ipython",
    "version": 3
   },
   "file_extension": ".py",
   "mimetype": "text/x-python",
   "name": "python",
   "nbconvert_exporter": "python",
   "pygments_lexer": "ipython3",
   "version": "3.8.18"
  }
 },
 "nbformat": 4,
 "nbformat_minor": 5
}
