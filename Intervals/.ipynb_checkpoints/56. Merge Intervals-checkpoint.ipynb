{
 "cells": [
  {
   "cell_type": "markdown",
   "id": "56b39928",
   "metadata": {},
   "source": [
    "# Problem"
   ]
  },
  {
   "cell_type": "markdown",
   "id": "fbc8c916",
   "metadata": {},
   "source": [
    "Given an array of `intervals` where `interval[i] = [start, end]` of `i`, merge all overlapping intervals, and return an array of the non-overlapping intervals that cover all the intervals in teh input."
   ]
  },
  {
   "cell_type": "markdown",
   "id": "f751bf3d",
   "metadata": {},
   "source": [
    "# Example"
   ]
  },
  {
   "cell_type": "markdown",
   "id": "404258de",
   "metadata": {},
   "source": [
    "**Input**:intervals = [[1,3],[2,6],[8,10],[15,18]] \\\n",
    "**Output**: [[1,6],[8,10],[15,18]]"
   ]
  },
  {
   "cell_type": "markdown",
   "id": "83ef8305",
   "metadata": {},
   "source": [
    "**Input**: intervals = [[1,4],[4,5]] \\\n",
    "**Output**: [[1,5]]"
   ]
  },
  {
   "cell_type": "markdown",
   "id": "9d83d89e",
   "metadata": {},
   "source": [
    "# Solution"
   ]
  },
  {
   "cell_type": "markdown",
   "id": "1ec5468a",
   "metadata": {},
   "source": [
    "## Idea"
   ]
  },
  {
   "cell_type": "markdown",
   "id": "f5430676",
   "metadata": {},
   "source": [
    "1. Initialize `res` to be the list that is going to be returned and sort the intervals by the first element.\n",
    "2. Loop through the intervals, if the start of the next interval is in between the previous, update the range. Else append it to `res`."
   ]
  },
  {
   "cell_type": "markdown",
   "id": "117cfb43",
   "metadata": {},
   "source": [
    "## Code"
   ]
  },
  {
   "cell_type": "code",
   "execution_count": 38,
   "id": "14b0ae8e",
   "metadata": {},
   "outputs": [],
   "source": [
    "def merge(intervals):\n",
    "    res = []\n",
    "    intervals = sorted(intervals)\n",
    "    \n",
    "    for i, j in intervals:\n",
    "        if res and res[-1][0] <= i <= res[-1][1]:\n",
    "            res[-1][1] = max(j, res[-1][1])\n",
    "        else:\n",
    "            res.append([i, j])\n",
    "            \n",
    "    return res\n",
    "    "
   ]
  },
  {
   "cell_type": "markdown",
   "id": "86f2b69c",
   "metadata": {},
   "source": [
    "## Test"
   ]
  },
  {
   "cell_type": "code",
   "execution_count": 44,
   "id": "669ebe96",
   "metadata": {},
   "outputs": [],
   "source": [
    "def test(f):\n",
    "    test1 = f([[1,3],[2,6],[8,10],[15,18]])==[[1,6],[8,10],[15,18]]\n",
    "    test2 = f([[1,4],[4,5]])==[[1,5]]\n",
    "    test3 = f([[2,8],[9,10],[3,100]])==[[2,100]]\n",
    "    test4 = f([[3,100],[4,19],[9,70]])==[[3,100]]\n",
    "    return test1 and test2 and test3 and test4"
   ]
  },
  {
   "cell_type": "code",
   "execution_count": 45,
   "id": "175efae9",
   "metadata": {},
   "outputs": [
    {
     "data": {
      "text/plain": [
       "True"
      ]
     },
     "execution_count": 45,
     "metadata": {},
     "output_type": "execute_result"
    }
   ],
   "source": [
    "test(merge)"
   ]
  }
 ],
 "metadata": {
  "kernelspec": {
   "display_name": "Python [conda env:.conda-nanoGPT] *",
   "language": "python",
   "name": "conda-env-.conda-nanoGPT-py"
  },
  "language_info": {
   "codemirror_mode": {
    "name": "ipython",
    "version": 3
   },
   "file_extension": ".py",
   "mimetype": "text/x-python",
   "name": "python",
   "nbconvert_exporter": "python",
   "pygments_lexer": "ipython3",
   "version": "3.8.18"
  }
 },
 "nbformat": 4,
 "nbformat_minor": 5
}
