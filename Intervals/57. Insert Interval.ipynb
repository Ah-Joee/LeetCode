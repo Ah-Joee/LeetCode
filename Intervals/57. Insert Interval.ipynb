{
 "cells": [
  {
   "cell_type": "markdown",
   "metadata": {},
   "source": [
    "# Problem"
   ]
  },
  {
   "cell_type": "markdown",
   "metadata": {},
   "source": [
    "You are given an array of non-overlapping intervals `intervals` where `intervals[i] = [start, end]` represent teh start and end of the `i` interval and `intervals` is sorted in ascending order by `start`. You are also given an interval `newInterval = [start, end]` that represents the start and end of another interval."
   ]
  },
  {
   "cell_type": "markdown",
   "metadata": {},
   "source": [
    "Insert `newInterval` into `intervals` such that `intervals` is still sorted in ascending order by `start` and `interavls` still does not have any overlapping intervals (merge overlapping intervals if necessary)."
   ]
  },
  {
   "cell_type": "markdown",
   "metadata": {},
   "source": [
    "Return `intervals` after the insertion."
   ]
  },
  {
   "cell_type": "markdown",
   "metadata": {},
   "source": [
    "# Example"
   ]
  },
  {
   "cell_type": "markdown",
   "metadata": {},
   "source": [
    "**Input**: intervals = [[1,3], [6,9]], newInterval = [2,5]\\\n",
    "**Output**: [[1,5],[6,9]]"
   ]
  },
  {
   "cell_type": "markdown",
   "metadata": {},
   "source": [
    "**Input**: intervals=[[1,2], [3,5], [6,7], [8,10], [12,16]], newInterval = [4,8]\\\n",
    "**Output**: [[1,2],[3,10],[12,16]]"
   ]
  },
  {
   "cell_type": "markdown",
   "metadata": {},
   "source": [
    "# Solution"
   ]
  },
  {
   "cell_type": "code",
   "execution_count": 15,
   "metadata": {},
   "outputs": [],
   "source": [
    "def insert(intervals, newInterval):\n",
    "    output = []\n",
    "\n",
    "    for i in range(len(intervals)):\n",
    "        if newInterval[1] < intervals[i][0]:\n",
    "            output.append(newInterval)\n",
    "            return output + intervals[i:]\n",
    "\n",
    "        elif newInterval[0] > intervals[i][1]:\n",
    "            output.append(intervals[i])\n",
    "        \n",
    "        else:\n",
    "            newInterval = [\n",
    "                min(newInterval[0], intervals[i][0]),\n",
    "                max(newInterval[1], intervals[i][1])\n",
    "            ]\n",
    "\n",
    "    output.apend(newInterval)\n",
    "    return output"
   ]
  },
  {
   "cell_type": "code",
   "execution_count": 17,
   "metadata": {},
   "outputs": [],
   "source": [
    "def test(f):\n",
    "    test1 = f([[1,3],[6,9]], [2,5])==[[1,5],[6,9]]\n",
    "    test2 = f([[1,2],[3,5],[6,7],[8,10],[12,16]], [4,8])==[[1,2],[3,10],[12,16]]\n",
    "    return test1 and test2"
   ]
  },
  {
   "cell_type": "code",
   "execution_count": 18,
   "metadata": {},
   "outputs": [
    {
     "data": {
      "text/plain": [
       "True"
      ]
     },
     "execution_count": 18,
     "metadata": {},
     "output_type": "execute_result"
    }
   ],
   "source": [
    "test(insert)"
   ]
  }
 ],
 "metadata": {
  "kernelspec": {
   "display_name": "Python 3",
   "language": "python",
   "name": "python3"
  },
  "language_info": {
   "codemirror_mode": {
    "name": "ipython",
    "version": 3
   },
   "file_extension": ".py",
   "mimetype": "text/x-python",
   "name": "python",
   "nbconvert_exporter": "python",
   "pygments_lexer": "ipython3",
   "version": "3.9.13"
  }
 },
 "nbformat": 4,
 "nbformat_minor": 2
}
