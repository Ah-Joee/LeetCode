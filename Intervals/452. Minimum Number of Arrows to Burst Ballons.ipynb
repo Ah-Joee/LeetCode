{
 "cells": [
  {
   "cell_type": "markdown",
   "metadata": {},
   "source": [
    "# Problem"
   ]
  },
  {
   "cell_type": "markdown",
   "metadata": {},
   "source": [
    "Therer are some spherical ballons taped onto a flat wall that represents the XY-palce. The balloons are represented as a 2D integer array `points` where `points[i] = [X_start, X_end]` denotes a balloon whose **horizontal diameter** stretches between `X_start` and `X_end`. You do not know the exact y-coordinates of the balloons."
   ]
  },
  {
   "cell_type": "markdown",
   "metadata": {},
   "source": [
    "Arrows can be shot up **directly vertically** (in the positive y-direction) from different points along the x-axis. A balloon with `X_start` and `X-end` is **burst** by an arrow shot at `x` if `X_start <= X <= X_end`. There is **no limit** to the number of arrows that can be shot. A shot arrow keeps traveling up infinitely, bursting any balloons in its path."
   ]
  },
  {
   "cell_type": "markdown",
   "metadata": {},
   "source": [
    "Given the array `points`, return the **minimum** number of arrows taht must be shot to burst all balloons."
   ]
  },
  {
   "cell_type": "markdown",
   "metadata": {},
   "source": [
    "# Example"
   ]
  },
  {
   "cell_type": "markdown",
   "metadata": {},
   "source": [
    "**Input**: points = [[10, 16], [2,8], [1,6], [7,12]]\\\n",
    "**Output**: 2"
   ]
  },
  {
   "cell_type": "markdown",
   "metadata": {},
   "source": [
    "**Input**: points = [[1,2], [3,4], [5,6], [7,8]]\\\n",
    "**Output**: 4"
   ]
  },
  {
   "cell_type": "markdown",
   "metadata": {},
   "source": [
    "**Input**: points = [[1,2], [2,3], [3,4], [4,5]]\\\n",
    "**Output**: 2"
   ]
  },
  {
   "cell_type": "markdown",
   "metadata": {},
   "source": [
    "# Solution"
   ]
  },
  {
   "cell_type": "code",
   "execution_count": 20,
   "metadata": {},
   "outputs": [],
   "source": [
    "def findMinArrowShots(points):\n",
    "    points.sort()\n",
    "    temp = points[0][1]\n",
    "    count = 1\n",
    "    for point in points:\n",
    "        if temp >= point[0]:\n",
    "            temp = min(temp, point[1])\n",
    "            continue\n",
    "        temp = point[1]\n",
    "        count += 1\n",
    "    return count\n"
   ]
  },
  {
   "cell_type": "code",
   "execution_count": 23,
   "metadata": {},
   "outputs": [],
   "source": [
    "def test(f):\n",
    "    test1 = f([[10,16],[2,8],[1,6],[7,12]])==2\n",
    "    test2 = f([[1,2],[3,4],[5,6],[7,8]])==4\n",
    "    test3 = f([[1,2],[2,3],[3,4],[4,5]])==2\n",
    "    test4 = f([[9,12],[1,10],[4,11],[8,12],[3,9],[6,9],[6,7]])==2\n",
    "    return test1 and test2 and test3"
   ]
  },
  {
   "cell_type": "code",
   "execution_count": 24,
   "metadata": {},
   "outputs": [
    {
     "data": {
      "text/plain": [
       "True"
      ]
     },
     "execution_count": 24,
     "metadata": {},
     "output_type": "execute_result"
    }
   ],
   "source": [
    "test(findMinArrowShots)"
   ]
  }
 ],
 "metadata": {
  "kernelspec": {
   "display_name": "Python 3",
   "language": "python",
   "name": "python3"
  },
  "language_info": {
   "codemirror_mode": {
    "name": "ipython",
    "version": 3
   },
   "file_extension": ".py",
   "mimetype": "text/x-python",
   "name": "python",
   "nbconvert_exporter": "python",
   "pygments_lexer": "ipython3",
   "version": "3.9.13"
  }
 },
 "nbformat": 4,
 "nbformat_minor": 2
}
