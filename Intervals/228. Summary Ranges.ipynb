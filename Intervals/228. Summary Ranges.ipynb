{
 "cells": [
  {
   "cell_type": "markdown",
   "id": "ff7050b2",
   "metadata": {},
   "source": [
    "# Problem"
   ]
  },
  {
   "cell_type": "markdown",
   "id": "42cc9d2d",
   "metadata": {},
   "source": [
    "You are given a **sorted unique** integer array `nums`."
   ]
  },
  {
   "cell_type": "markdown",
   "id": "fff29740",
   "metadata": {},
   "source": [
    "A **range** `[a,b]` is the set of all integers from `a` to `b` (inclusive)."
   ]
  },
  {
   "cell_type": "markdown",
   "id": "80b69dcf",
   "metadata": {},
   "source": [
    "Return the **smallest sorted** list of ranges that **cover all the numbers in teh array exactly**. That is, each element of `nums` is covered by exactly one of teh ranges, and there is no integer `x` such that `x` is in one of the ranges but not in `nums`."
   ]
  },
  {
   "cell_type": "markdown",
   "id": "2a669167",
   "metadata": {},
   "source": [
    "Each range `[a,b]` in the list should be output as:\n",
    "- `\"a->b\"` if `a != b`\n",
    "- `\"a\"` if `a == b`"
   ]
  },
  {
   "cell_type": "markdown",
   "id": "915c878d",
   "metadata": {},
   "source": [
    "# Example"
   ]
  },
  {
   "cell_type": "markdown",
   "id": "520e2f71",
   "metadata": {},
   "source": [
    "**Input**: nums = [0,1,2,4,5,7]\\\n",
    "**Output**: [\"0->2\", \"4->5\", \"7\"]"
   ]
  },
  {
   "cell_type": "markdown",
   "id": "326f3ab9",
   "metadata": {},
   "source": [
    "**Input**: nums = [0,2,3,4,6,8,9]\\\n",
    "**Output**: [\"0\", \"2->4\", \"6\", \"8->9\"]"
   ]
  },
  {
   "cell_type": "markdown",
   "id": "2e205184",
   "metadata": {},
   "source": [
    "# Solution"
   ]
  },
  {
   "cell_type": "markdown",
   "id": "c0cb0ebf",
   "metadata": {},
   "source": [
    "## Idea"
   ]
  },
  {
   "cell_type": "markdown",
   "id": "c164c3f0",
   "metadata": {},
   "source": [
    "If the last sub-list in `res` equals to the previous element plus 1, update that list, else append another list"
   ]
  },
  {
   "cell_type": "markdown",
   "id": "902a38f8",
   "metadata": {},
   "source": [
    "## Code"
   ]
  },
  {
   "cell_type": "code",
   "execution_count": 31,
   "id": "a54f91a6",
   "metadata": {},
   "outputs": [],
   "source": [
    "def summaryRanges(nums):\n",
    "    res = []\n",
    "    for n in (nums):\n",
    "        if res and res[-1][1] == n-1:\n",
    "            res[-1][1] = n\n",
    "        else:\n",
    "            res.append([n,n])\n",
    "    return [f'{x}->{y}' if x!=y else f'{x}' for x, y in res]"
   ]
  },
  {
   "cell_type": "markdown",
   "id": "6f4e00a5",
   "metadata": {},
   "source": [
    "## Test"
   ]
  },
  {
   "cell_type": "code",
   "execution_count": 33,
   "id": "dd93e05c",
   "metadata": {},
   "outputs": [],
   "source": [
    "def test(f):\n",
    "    test1 = f([0,1,2,4,5,7])==[\"0->2\",\"4->5\",\"7\"]\n",
    "    test2 = f([0,2,3,4,6,8,9])==[\"0\",\"2->4\",\"6\",\"8->9\"]\n",
    "    return test1 and test2"
   ]
  },
  {
   "cell_type": "code",
   "execution_count": 34,
   "id": "6b0d6d2e",
   "metadata": {},
   "outputs": [
    {
     "data": {
      "text/plain": [
       "True"
      ]
     },
     "execution_count": 34,
     "metadata": {},
     "output_type": "execute_result"
    }
   ],
   "source": [
    "test(summaryRanges)"
   ]
  }
 ],
 "metadata": {
  "kernelspec": {
   "display_name": "Python [conda env:.conda-nanoGPT] *",
   "language": "python",
   "name": "conda-env-.conda-nanoGPT-py"
  },
  "language_info": {
   "codemirror_mode": {
    "name": "ipython",
    "version": 3
   },
   "file_extension": ".py",
   "mimetype": "text/x-python",
   "name": "python",
   "nbconvert_exporter": "python",
   "pygments_lexer": "ipython3",
   "version": "3.8.18"
  }
 },
 "nbformat": 4,
 "nbformat_minor": 5
}
