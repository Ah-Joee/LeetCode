{
 "cells": [
  {
   "cell_type": "markdown",
   "id": "ef35faf6",
   "metadata": {},
   "source": [
    "# Problem"
   ]
  },
  {
   "cell_type": "markdown",
   "id": "88c59b1d",
   "metadata": {},
   "source": [
    "Design a stack that supports push, pop, top, and retrieving the minimum element in constant time."
   ]
  },
  {
   "cell_type": "markdown",
   "id": "3d72e3dd",
   "metadata": {},
   "source": [
    "Implement the `MinStack` class:\n",
    "- `MinStack()` initializes the stack object.\n",
    "- `push(val)` pushes the element `val` onto the stack.\n",
    "- `pop()` removes the element on the top of the stack.\n",
    "- `top()` gets the top element of the stack.\n",
    "- `getMin()` retrieves the minimum element in the stack."
   ]
  },
  {
   "cell_type": "markdown",
   "id": "8f68ffeb",
   "metadata": {},
   "source": [
    "You must implement a solution with `O(1)` time complexity for each function."
   ]
  },
  {
   "cell_type": "markdown",
   "id": "8d30f3bc",
   "metadata": {},
   "source": [
    "# Example"
   ]
  },
  {
   "cell_type": "markdown",
   "id": "64e0b727",
   "metadata": {},
   "source": [
    "**Input**:\\\n",
    "[\"MinStack\",\"push\",\"push\",\"push\",\"getMin\",\"pop\",\"top\",\"getMin\"]\\\n",
    "[[],[-2],[0],[-3],[],[],[],[]]\\\n",
    "**Output**:\\\n",
    "[null,null,null,null,-3,null,0,-2]"
   ]
  },
  {
   "cell_type": "markdown",
   "id": "f6a95b4b",
   "metadata": {},
   "source": [
    "# Solution"
   ]
  },
  {
   "cell_type": "code",
   "execution_count": 1,
   "id": "fd4c35b5",
   "metadata": {},
   "outputs": [],
   "source": [
    "class MinStack:\n",
    "    def __init__(self):\n",
    "        self.stack = []\n",
    "        \n",
    "\n",
    "    def push(self, val):\n",
    "        self.stack.append(val)\n",
    "        return None\n",
    "        \n",
    "\n",
    "    def pop(self):\n",
    "        self.stack.pop()\n",
    "        return None\n",
    "\n",
    "    def top(self):\n",
    "        return self.stack[-1]\n",
    "        \n",
    "\n",
    "    def getMin(self):\n",
    "        return min(self.stack)\n",
    "        "
   ]
  }
 ],
 "metadata": {
  "kernelspec": {
   "display_name": "Python [conda env:.conda-nanoGPT] *",
   "language": "python",
   "name": "conda-env-.conda-nanoGPT-py"
  },
  "language_info": {
   "codemirror_mode": {
    "name": "ipython",
    "version": 3
   },
   "file_extension": ".py",
   "mimetype": "text/x-python",
   "name": "python",
   "nbconvert_exporter": "python",
   "pygments_lexer": "ipython3",
   "version": "3.8.18"
  }
 },
 "nbformat": 4,
 "nbformat_minor": 5
}
