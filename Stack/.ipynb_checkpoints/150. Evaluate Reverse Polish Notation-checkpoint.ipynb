{
 "cells": [
  {
   "cell_type": "markdown",
   "id": "3e20ded4",
   "metadata": {},
   "source": [
    "# Problem"
   ]
  },
  {
   "cell_type": "markdown",
   "id": "fefe4cd6",
   "metadata": {},
   "source": [
    "You are given an array of strings `tokens` taht represents an arithmetic expression in a **Reverse Polish Notation**."
   ]
  },
  {
   "cell_type": "markdown",
   "id": "a78d6bb0",
   "metadata": {},
   "source": [
    "Evaluate the expression. Return an integer that represents the alue of the expression."
   ]
  },
  {
   "cell_type": "markdown",
   "id": "a2047d7b",
   "metadata": {},
   "source": [
    "Note that:\n",
    "- The valid operators are '+', '-', '*', and '/'.\n",
    "- Each operand may be an integer or another expression.\n",
    "- The division between two integers always **truncates toward zero**.\n",
    "- There will not be any division by zero.\n",
    "- The input represents a valid arithmetic expression in a reverse polish notation.\n",
    "- The answer and all the intermediate calculations can be represented in a **32-bit** integer."
   ]
  },
  {
   "cell_type": "markdown",
   "id": "f1a7a511",
   "metadata": {},
   "source": [
    "# Example"
   ]
  },
  {
   "cell_type": "markdown",
   "id": "000e3302",
   "metadata": {},
   "source": [
    "**Input**: tokens = [\"2\", \"1\", \"+\", \"3\", \"*\"]\\\n",
    "**Output**: 9\\\n",
    "**Explanation**: ((2 + 1) * 3 ) = 9 \n"
   ]
  },
  {
   "cell_type": "markdown",
   "id": "302aec58",
   "metadata": {},
   "source": [
    "**Input**: tokens = [\"4\", \"13\", \"5\", \"/\", \"+\"]\\\n",
    "**Output**: 6\\\n",
    "**Explanation**: (4 + (13 / 5)) = 6"
   ]
  },
  {
   "cell_type": "markdown",
   "id": "c43a8e19",
   "metadata": {},
   "source": [
    "**Input**: tokens = [\"10\",\"6\",\"9\",\"3\",\"+\",\"-11\",\"*\",\"/\",\"*\",\"17\",\"+\",\"5\",\"+\"]\\\n",
    "**Output**: 22"
   ]
  },
  {
   "cell_type": "markdown",
   "id": "61fa9c02",
   "metadata": {},
   "source": [
    "# Solution"
   ]
  },
  {
   "cell_type": "markdown",
   "id": "d245718b",
   "metadata": {},
   "source": [
    "## Idea"
   ]
  },
  {
   "cell_type": "markdown",
   "id": "d0e0dcbf",
   "metadata": {},
   "source": [
    "Use a `stack` to hold numbers. Iterate through the element, if there is an operand, pop two elements out of the stack, do the operation, then push it back to the stack."
   ]
  },
  {
   "cell_type": "markdown",
   "id": "fe6027ba",
   "metadata": {},
   "source": [
    "## Code"
   ]
  },
  {
   "cell_type": "code",
   "execution_count": 26,
   "id": "e3e44304",
   "metadata": {},
   "outputs": [],
   "source": [
    "def evalRPN(tokens):\n",
    "    operand = [\"+\", \"-\", \"*\", \"/\"]\n",
    "    stack = []\n",
    "\n",
    "    for i in tokens:\n",
    "        if i not in operand:\n",
    "            stack.append(int(i))\n",
    "        else:\n",
    "            b = stack.pop()\n",
    "            a = stack.pop()\n",
    "\n",
    "            if i == \"+\":\n",
    "                stack.append(a+b)\n",
    "            elif i == \"-\":\n",
    "                stack.append(a-b)\n",
    "            elif i == \"*\":\n",
    "                stack.append(a*b)\n",
    "            else:\n",
    "                stack.append(int(a/b))\n",
    "    return stack.pop()"
   ]
  },
  {
   "cell_type": "markdown",
   "id": "9e5879c8",
   "metadata": {},
   "source": [
    "## Test"
   ]
  },
  {
   "cell_type": "code",
   "execution_count": 27,
   "id": "bb6eb94d",
   "metadata": {},
   "outputs": [],
   "source": [
    "def test(f):\n",
    "    test1 = f([\"2\",\"1\",\"+\",\"3\",\"*\"])==9\n",
    "    test2 = f([\"4\",\"13\",\"5\",\"/\",\"+\"])==6\n",
    "    test3 = f([\"10\",\"6\",\"9\",\"3\",\"+\",\"-11\",\"*\",\"/\",\"*\",\"17\",\"+\",\"5\",\"+\"])==22\n",
    "    return test1 and test2 and test3"
   ]
  },
  {
   "cell_type": "code",
   "execution_count": 28,
   "id": "97ec0c56",
   "metadata": {},
   "outputs": [
    {
     "data": {
      "text/plain": [
       "True"
      ]
     },
     "execution_count": 28,
     "metadata": {},
     "output_type": "execute_result"
    }
   ],
   "source": [
    "test(evalRPN)"
   ]
  }
 ],
 "metadata": {
  "kernelspec": {
   "display_name": "Python [conda env:.conda-nanoGPT] *",
   "language": "python",
   "name": "conda-env-.conda-nanoGPT-py"
  },
  "language_info": {
   "codemirror_mode": {
    "name": "ipython",
    "version": 3
   },
   "file_extension": ".py",
   "mimetype": "text/x-python",
   "name": "python",
   "nbconvert_exporter": "python",
   "pygments_lexer": "ipython3",
   "version": "3.8.18"
  }
 },
 "nbformat": 4,
 "nbformat_minor": 5
}
