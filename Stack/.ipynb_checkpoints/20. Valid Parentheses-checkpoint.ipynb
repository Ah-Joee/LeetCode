{
 "cells": [
  {
   "cell_type": "markdown",
   "id": "25b5bb01",
   "metadata": {},
   "source": [
    "# Problem"
   ]
  },
  {
   "cell_type": "markdown",
   "id": "61665097",
   "metadata": {},
   "source": [
    "Given a string `s` containing just the characters `'('`, `')'`, `'{'`, `'}'`, `'['`, and `']'`, determine if the input string is valid."
   ]
  },
  {
   "cell_type": "markdown",
   "id": "aa262e37",
   "metadata": {},
   "source": [
    "An input string is valid if:\n",
    "1. Open brackets must be closed by teh same type of brackets.\n",
    "2. Open brackets must be closed in the correct order.\n",
    "3. Every close bracket has a corresponding open bracket of the same type"
   ]
  },
  {
   "cell_type": "markdown",
   "id": "553f1f95",
   "metadata": {},
   "source": [
    "# Example"
   ]
  },
  {
   "cell_type": "markdown",
   "id": "e36617cf",
   "metadata": {},
   "source": [
    "**Input**: s = \"()\"\\\n",
    "**Output**: true"
   ]
  },
  {
   "cell_type": "markdown",
   "id": "318c782f",
   "metadata": {},
   "source": [
    "**Input**: s = \"()[]{}\"\\\n",
    "**Output**: true"
   ]
  },
  {
   "cell_type": "markdown",
   "id": "1287f4c9",
   "metadata": {},
   "source": [
    "**Input**: s = \"(]\"\\\n",
    "**Output**: false"
   ]
  },
  {
   "cell_type": "markdown",
   "id": "c4fad0ce",
   "metadata": {},
   "source": [
    "# Solution"
   ]
  },
  {
   "cell_type": "markdown",
   "id": "525653bc",
   "metadata": {},
   "source": [
    "## Idea"
   ]
  },
  {
   "cell_type": "markdown",
   "id": "1daddda9",
   "metadata": {},
   "source": [
    "Create a list that maps the left bracket to the corresponding right bracket. Use `stack` that everytime the left bracket appears, append it to the `stack` and if not the right bracket, check if it's in the right position by popping out the corresponding (last) left bracket."
   ]
  },
  {
   "cell_type": "markdown",
   "id": "e441ed84",
   "metadata": {},
   "source": [
    "## Code"
   ]
  },
  {
   "cell_type": "code",
   "execution_count": 60,
   "id": "f3a8e3a3",
   "metadata": {},
   "outputs": [],
   "source": [
    "def isValid(s):\n",
    "    stack = []\n",
    "    pairs = {\n",
    "        '(' : ')',\n",
    "        '[' : ']',\n",
    "        '{' : '}'\n",
    "    }\n",
    "    \n",
    "    for bracket in s:\n",
    "        if bracket in pairs:\n",
    "            stack.append(bracket)\n",
    "        elif len(stack)==0 or bracket != pairs[stack.pop()]:\n",
    "            return False\n",
    "    return len(stack)==0\n",
    "        "
   ]
  },
  {
   "cell_type": "markdown",
   "id": "33c38f57",
   "metadata": {},
   "source": [
    "## Test"
   ]
  },
  {
   "cell_type": "code",
   "execution_count": 61,
   "id": "1d43a277",
   "metadata": {},
   "outputs": [],
   "source": [
    "def test(f):\n",
    "    test1 = f(\"()\")==True\n",
    "    test2 = f(\"()[]{}\")==True\n",
    "    test3 = f(\"(]\")==False\n",
    "    test4 = f(\"{[]}\")==True\n",
    "    return test1 and test2"
   ]
  },
  {
   "cell_type": "code",
   "execution_count": 62,
   "id": "ea6c0102",
   "metadata": {},
   "outputs": [
    {
     "data": {
      "text/plain": [
       "True"
      ]
     },
     "execution_count": 62,
     "metadata": {},
     "output_type": "execute_result"
    }
   ],
   "source": [
    "test(isValid)"
   ]
  }
 ],
 "metadata": {
  "kernelspec": {
   "display_name": "Python [conda env:.conda-nanoGPT] *",
   "language": "python",
   "name": "conda-env-.conda-nanoGPT-py"
  },
  "language_info": {
   "codemirror_mode": {
    "name": "ipython",
    "version": 3
   },
   "file_extension": ".py",
   "mimetype": "text/x-python",
   "name": "python",
   "nbconvert_exporter": "python",
   "pygments_lexer": "ipython3",
   "version": "3.8.18"
  }
 },
 "nbformat": 4,
 "nbformat_minor": 5
}
