{
 "cells": [
  {
   "cell_type": "markdown",
   "id": "71a2fd29",
   "metadata": {},
   "source": [
    "# Problem"
   ]
  },
  {
   "cell_type": "markdown",
   "id": "181324f4",
   "metadata": {},
   "source": [
    "Given a string `path`, which is an **absolute path** (staring with a slash `'/'`) to a file or directory in a Unix-style file system, convert it to the simplified **canonical path**."
   ]
  },
  {
   "cell_type": "markdown",
   "id": "04402b5f",
   "metadata": {},
   "source": [
    "The **canonical path** should hvae the following format:\n",
    "- The path starts with a single slash `'/'`.\n",
    "- Any two directories are separated by a single slash `'/'`.\n",
    "- The path does not end with a trailing `'/'`.\n",
    "- The path only contains the directories on the path from the root directory to hte target file or directory (i.e., no period `'.'` or double period `'..'`)"
   ]
  },
  {
   "cell_type": "markdown",
   "id": "011c9725",
   "metadata": {},
   "source": [
    "Return the simplified **cannocial path**."
   ]
  },
  {
   "cell_type": "markdown",
   "id": "6e8d281f",
   "metadata": {},
   "source": [
    "# Example"
   ]
  },
  {
   "cell_type": "markdown",
   "id": "a8809c4f",
   "metadata": {},
   "source": [
    "**Input**: path = \"/home/\"\\\n",
    "**Output**: \"/home\"\\\n",
    "**Explanation**: Note that there is no trailing slash after the last directory name."
   ]
  },
  {
   "cell_type": "markdown",
   "id": "436e0755",
   "metadata": {},
   "source": [
    "**Input**: path = \"/../\"\\\n",
    "**Output**: \"/\"\\\n",
    "**Explanation**: Going one level up from the root directory is a no-op, as the root level is the highest level you can go."
   ]
  },
  {
   "cell_type": "markdown",
   "id": "190e0543",
   "metadata": {},
   "source": [
    "**Input**: path = \"/home//foo/\"\\\n",
    "**Output**: \"/home/foo\"\\\n",
    "**Explanation**: In the canonical path, multiple consecutive slashes are replaced by a single one."
   ]
  },
  {
   "cell_type": "markdown",
   "id": "58c8a58b",
   "metadata": {},
   "source": [
    "# Solution"
   ]
  },
  {
   "cell_type": "markdown",
   "id": "50ba0dac",
   "metadata": {},
   "source": [
    "## Idea"
   ]
  },
  {
   "cell_type": "markdown",
   "id": "63d09264",
   "metadata": {},
   "source": [
    "Remove all the `'.'` and split the string by `'/'`. Add `'/'` plus the string in the the final result."
   ]
  },
  {
   "cell_type": "code",
   "execution_count": 61,
   "id": "f53e2cb8",
   "metadata": {},
   "outputs": [],
   "source": [
    "def simplifyPath(path):\n",
    "    path = path.split(\"/\")\n",
    "    stack = []\n",
    "    for i in path:\n",
    "        if i == \"..\":\n",
    "            if len(stack)>0:\n",
    "                stack.pop()\n",
    "        elif i != \"\" and i != '.':\n",
    "            stack.append(i)\n",
    "    \n",
    "    return \"/\" + \"/\".join(stack)\n",
    "        "
   ]
  },
  {
   "cell_type": "markdown",
   "id": "7e173173",
   "metadata": {},
   "source": [
    "## Test"
   ]
  },
  {
   "cell_type": "code",
   "execution_count": 65,
   "id": "be75b6cd",
   "metadata": {},
   "outputs": [],
   "source": [
    "def test(f):\n",
    "    test1 = f(\"/home/\")==\"/home\"\n",
    "    test2 = f(\"/../\")==\"/\"\n",
    "    test3 = f(\"/home//foo/\")==\"/home/foo\"\n",
    "    test4 = f(\"/a/./b/../../c\")==\"/c\"\n",
    "    return test1 and test2 and test3 and test4"
   ]
  },
  {
   "cell_type": "code",
   "execution_count": 66,
   "id": "59ae11a8",
   "metadata": {
    "scrolled": true
   },
   "outputs": [
    {
     "data": {
      "text/plain": [
       "True"
      ]
     },
     "execution_count": 66,
     "metadata": {},
     "output_type": "execute_result"
    }
   ],
   "source": [
    "test(simplifyPath)"
   ]
  }
 ],
 "metadata": {
  "kernelspec": {
   "display_name": "Python [conda env:.conda-nanoGPT] *",
   "language": "python",
   "name": "conda-env-.conda-nanoGPT-py"
  },
  "language_info": {
   "codemirror_mode": {
    "name": "ipython",
    "version": 3
   },
   "file_extension": ".py",
   "mimetype": "text/x-python",
   "name": "python",
   "nbconvert_exporter": "python",
   "pygments_lexer": "ipython3",
   "version": "3.8.18"
  }
 },
 "nbformat": 4,
 "nbformat_minor": 5
}
