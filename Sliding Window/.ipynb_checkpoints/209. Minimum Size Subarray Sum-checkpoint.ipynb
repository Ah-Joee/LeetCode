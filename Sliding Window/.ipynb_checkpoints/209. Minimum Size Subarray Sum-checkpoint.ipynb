{
 "cells": [
  {
   "cell_type": "markdown",
   "id": "c2d93f20",
   "metadata": {},
   "source": [
    "# Problem"
   ]
  },
  {
   "cell_type": "markdown",
   "id": "a25d32ae",
   "metadata": {},
   "source": [
    "Given an array of positive integers `nums` and a positive integer `target`, return the **minimal length** of a subarray whose sum is greater than or equal to `target`. If there is no such subarray, return 0 instead."
   ]
  },
  {
   "cell_type": "markdown",
   "id": "ed3ae829",
   "metadata": {},
   "source": [
    "# Example"
   ]
  },
  {
   "cell_type": "markdown",
   "id": "6d18b379",
   "metadata": {},
   "source": [
    "**Input**: target = 7, nums = [2,3,1,2,4,3]\\\n",
    "**Output**: 2\\\n",
    "**Explanation**: The subarray [4,3] has the minimal length under the problem constraint."
   ]
  },
  {
   "cell_type": "markdown",
   "id": "321b139a",
   "metadata": {},
   "source": [
    "**Input**: target = 4, nums = [1,4,4]\\\n",
    "**Output**: 1"
   ]
  },
  {
   "cell_type": "markdown",
   "id": "eb1615d9",
   "metadata": {},
   "source": [
    "**Input** target = 11, nums = [1,1,1,1,1,1,1,1]\\\n",
    "**Output**: 0"
   ]
  },
  {
   "cell_type": "markdown",
   "id": "1e59cfbb",
   "metadata": {},
   "source": [
    "# Solution"
   ]
  },
  {
   "cell_type": "markdown",
   "id": "f23375bb",
   "metadata": {},
   "source": [
    "## Idea"
   ]
  },
  {
   "cell_type": "markdown",
   "id": "3194f6c4",
   "metadata": {},
   "source": [
    "1. Initialize the left and right pointers to 0 and set the sum variable to 0.\n",
    "2. Iterate thr right pointer over the array, moving it one step at a time, until it reaches the end of the array.\n",
    "3. Add `nums[right]` to the sum.\n",
    "4. Check if the sum is greater than or equal to the target. if so, calculate the current subarray length as `right-left+1` and update the `min_length` if it's smaller than the previous `min_length`.\n",
    "5. If the sum is greater than or equal to the target, move the left pointer one step to the right and subtract `nums[left]` from the sum.\n",
    "6. Repeat Steps 3-5 until the right pointer reaches the end of the array.\n",
    "7. After the loop, if `min_length` is still the initial value (indicating no valid subarray was found), return 0. Otherwise, return `min_length`."
   ]
  },
  {
   "cell_type": "markdown",
   "id": "3a3d873e",
   "metadata": {},
   "source": [
    "## Code"
   ]
  },
  {
   "cell_type": "code",
   "execution_count": 14,
   "id": "eb9ccbfe",
   "metadata": {},
   "outputs": [],
   "source": [
    "def minSubarrayLen(target, nums):\n",
    "    left = 0\n",
    "    ans = len(nums)+1\n",
    "    s = 0\n",
    "    \n",
    "    for right in range(len(nums)):\n",
    "        s += nums[right]\n",
    "        if s >= target:\n",
    "            ans = min(ans, right-left+1)\n",
    "        \n",
    "        while s > target:\n",
    "            s -= nums[left]\n",
    "            left += 1\n",
    "            if s >= target:\n",
    "                ans = min(ans, right-left+1)\n",
    "    return ans if ans<len(nums)+1 else 0"
   ]
  },
  {
   "cell_type": "markdown",
   "id": "227bf472",
   "metadata": {},
   "source": [
    "## Test"
   ]
  },
  {
   "cell_type": "code",
   "execution_count": 15,
   "id": "940a7d47",
   "metadata": {},
   "outputs": [
    {
     "data": {
      "text/plain": [
       "True"
      ]
     },
     "execution_count": 15,
     "metadata": {},
     "output_type": "execute_result"
    }
   ],
   "source": [
    "def test(f):\n",
    "    test1 = f(7, [2,3,1,2,4,3])==2\n",
    "    test2 = f(4, [1,4,4])==1\n",
    "    test3 = f(11, [1,1,1,1,1,1,1,1])==0\n",
    "    test4 = f(6, [2,3,1,2,4,3])==2\n",
    "    return test1 and test2 and test3 and test4\n",
    "test(minSubarrayLen)"
   ]
  },
  {
   "cell_type": "code",
   "execution_count": null,
   "id": "84956801",
   "metadata": {},
   "outputs": [],
   "source": []
  }
 ],
 "metadata": {
  "kernelspec": {
   "display_name": "Python [conda env:.conda-nanoGPT] *",
   "language": "python",
   "name": "conda-env-.conda-nanoGPT-py"
  },
  "language_info": {
   "codemirror_mode": {
    "name": "ipython",
    "version": 3
   },
   "file_extension": ".py",
   "mimetype": "text/x-python",
   "name": "python",
   "nbconvert_exporter": "python",
   "pygments_lexer": "ipython3",
   "version": "3.8.18"
  }
 },
 "nbformat": 4,
 "nbformat_minor": 5
}
