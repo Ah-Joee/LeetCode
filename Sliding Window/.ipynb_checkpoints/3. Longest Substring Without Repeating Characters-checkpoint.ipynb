{
 "cells": [
  {
   "cell_type": "markdown",
   "id": "5202a0c5",
   "metadata": {},
   "source": [
    "# Problem"
   ]
  },
  {
   "cell_type": "markdown",
   "id": "806f0af5",
   "metadata": {},
   "source": [
    "Given a string `s`, find the length of the **longest** substring without repeating characters."
   ]
  },
  {
   "cell_type": "markdown",
   "id": "de13a694",
   "metadata": {},
   "source": [
    "# Example"
   ]
  },
  {
   "cell_type": "markdown",
   "id": "90f3790d",
   "metadata": {},
   "source": [
    "**Input**: s = \"abcabcbb\"\\\n",
    "**Output**: 3\\\n",
    "**Explanation**: The answer is \"abc\", with the length of 3."
   ]
  },
  {
   "cell_type": "markdown",
   "id": "20e7ae2e",
   "metadata": {},
   "source": [
    "**Input**: s = \"bbbb\"\\\n",
    "**Output**: 1\\\n",
    "**Explanation**: The anser is \"b\", with the length of 1."
   ]
  },
  {
   "cell_type": "markdown",
   "id": "61a795d8",
   "metadata": {},
   "source": [
    "**Input**: s = \"pwwkew\"\\\n",
    "**Output**: 3\\\n",
    "**Explanation**: The answer is \"wke\", with the length of 3.\\\n",
    "Notice that the anser must be a substring, \"pwke\" is a subseqeunce and not a substring."
   ]
  },
  {
   "cell_type": "markdown",
   "id": "21dca1d6",
   "metadata": {},
   "source": [
    "# Solution"
   ]
  },
  {
   "cell_type": "markdown",
   "id": "3fd39b97",
   "metadata": {},
   "source": [
    "## Idea"
   ]
  },
  {
   "cell_type": "markdown",
   "id": "7eb4fb38",
   "metadata": {},
   "source": [
    "Using sliding windows, for loop through `right`, if the next character has already been in the `ans`, move `left` by 1."
   ]
  },
  {
   "cell_type": "markdown",
   "id": "22cee65b",
   "metadata": {},
   "source": [
    "## Code"
   ]
  },
  {
   "cell_type": "code",
   "execution_count": 44,
   "id": "c62d5de3",
   "metadata": {},
   "outputs": [],
   "source": [
    "def lengthOfLongestSubstring(s):\n",
    "    left = 0\n",
    "    ans = 0\n",
    "    string = \"\"\n",
    "\n",
    "    for right in range(len(s)):\n",
    "        temp = s[right]\n",
    "        string += temp\n",
    "        \n",
    "        if temp not in string[:-1]:\n",
    "            ans = max(ans, len(string))\n",
    "            \n",
    "        while temp in string[:-1]:\n",
    "            string = string[1:]\n",
    "            left += 1\n",
    "            if temp not in string[:-1]:\n",
    "                ans = max(ans, len(string))\n",
    "                \n",
    "    return ans\n",
    "            \n",
    "            \n",
    "        \n",
    "    "
   ]
  },
  {
   "cell_type": "markdown",
   "id": "16015266",
   "metadata": {},
   "source": [
    "## Test"
   ]
  },
  {
   "cell_type": "code",
   "execution_count": 46,
   "id": "80efbeb0",
   "metadata": {},
   "outputs": [
    {
     "data": {
      "text/plain": [
       "True"
      ]
     },
     "execution_count": 46,
     "metadata": {},
     "output_type": "execute_result"
    }
   ],
   "source": [
    "def test(f):\n",
    "    test1 = f(\"abcabcbb\")==3\n",
    "    test2 = f(\"bbbb\") == 1\n",
    "    test3 = f(\"pwwkew\")==3\n",
    "    return test1 and test2 and test3\n",
    "test(lengthOfLongestSubstring)"
   ]
  }
 ],
 "metadata": {
  "kernelspec": {
   "display_name": "Python [conda env:.conda-nanoGPT] *",
   "language": "python",
   "name": "conda-env-.conda-nanoGPT-py"
  },
  "language_info": {
   "codemirror_mode": {
    "name": "ipython",
    "version": 3
   },
   "file_extension": ".py",
   "mimetype": "text/x-python",
   "name": "python",
   "nbconvert_exporter": "python",
   "pygments_lexer": "ipython3",
   "version": "3.8.18"
  }
 },
 "nbformat": 4,
 "nbformat_minor": 5
}
