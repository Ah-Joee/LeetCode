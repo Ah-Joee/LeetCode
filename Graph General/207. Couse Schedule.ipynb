{
 "cells": [
  {
   "cell_type": "markdown",
   "id": "fa4f7eae",
   "metadata": {},
   "source": [
    "# Problem"
   ]
  },
  {
   "cell_type": "markdown",
   "id": "3b02de4d",
   "metadata": {},
   "source": [
    "There are a total of `numCourses` courses you have to take, labeled from `0` to `numCourses - 1`. You are given an array `prerequisites` where `prerequisites[i] = [ai, bi]` indicates that you **must** take cource `bi` first if you want to take cource `ai`."
   ]
  },
  {
   "cell_type": "markdown",
   "id": "2f752588",
   "metadata": {},
   "source": [
    "# Solution"
   ]
  },
  {
   "cell_type": "markdown",
   "id": "07a3fc99",
   "metadata": {},
   "source": [
    "## Idea"
   ]
  },
  {
   "cell_type": "markdown",
   "id": "74cd69d8",
   "metadata": {},
   "source": [
    "A Topological sorting is an orderingof nodes such that for every directed edge `(u,v)`, node `u` comes from node `v` in the ordering."
   ]
  },
  {
   "cell_type": "markdown",
   "id": "3f7cba7a",
   "metadata": {},
   "source": [
    "Use **Kahn's Algorithm** to find the topoligical sorting of the graph. If it's successful, meaning no cycle, and return `True`. **Kahn's Algorithm** use queue to visit nodes with in degree of 0, remove it's out degree, then visit other nodes with in degree of 0."
   ]
  },
  {
   "cell_type": "code",
   "execution_count": 60,
   "id": "ea432e96",
   "metadata": {},
   "outputs": [],
   "source": [
    "def canFinish(numCourses, prerequisites):\n",
    "    indegree = [0] * numCourses\n",
    "    adj = [[] for _ in range(numCourses)]\n",
    "    for pre, course in prerequisites:\n",
    "        adj[course].append(pre)\n",
    "        indegree[pre] += 1\n",
    "        \n",
    "    queue = []\n",
    "    for i in range(numCourses):\n",
    "        if indegree[i] == 0: queue.append(i)\n",
    "            \n",
    "    visited  = 0\n",
    "    while queue:\n",
    "        node = queue.pop(0)\n",
    "        visited += 1\n",
    "        for neighbor in adj[node]:\n",
    "            indegree[neighbor] -= 1\n",
    "            if indegree[neighbor] == 0:\n",
    "                queue.append(neighbor)\n",
    "    return numCourses == visited"
   ]
  },
  {
   "cell_type": "code",
   "execution_count": 61,
   "id": "a477d6c9",
   "metadata": {},
   "outputs": [
    {
     "ename": "IndexError",
     "evalue": "list index out of range",
     "output_type": "error",
     "traceback": [
      "\u001b[1;31m---------------------------------------------------------------------------\u001b[0m",
      "\u001b[1;31mIndexError\u001b[0m                                Traceback (most recent call last)",
      "Cell \u001b[1;32mIn[61], line 1\u001b[0m\n\u001b[1;32m----> 1\u001b[0m canFinish(\u001b[38;5;241m1\u001b[39m, [[\u001b[38;5;241m1\u001b[39m,\u001b[38;5;241m0\u001b[39m]])\n",
      "Cell \u001b[1;32mIn[60], line 6\u001b[0m, in \u001b[0;36mcanFinish\u001b[1;34m(numCourses, prerequisites)\u001b[0m\n\u001b[0;32m      4\u001b[0m \u001b[38;5;28;01mfor\u001b[39;00m pre, course \u001b[38;5;129;01min\u001b[39;00m prerequisites:\n\u001b[0;32m      5\u001b[0m     adj[course]\u001b[38;5;241m.\u001b[39mappend(pre)\n\u001b[1;32m----> 6\u001b[0m     indegree[pre] \u001b[38;5;241m+\u001b[39m\u001b[38;5;241m=\u001b[39m \u001b[38;5;241m1\u001b[39m\n\u001b[0;32m      8\u001b[0m queue \u001b[38;5;241m=\u001b[39m []\n\u001b[0;32m      9\u001b[0m \u001b[38;5;28;01mfor\u001b[39;00m i \u001b[38;5;129;01min\u001b[39;00m \u001b[38;5;28mrange\u001b[39m(numCourses):\n",
      "\u001b[1;31mIndexError\u001b[0m: list index out of range"
     ]
    }
   ],
   "source": [
    "canFinish(1, [[1,0]])"
   ]
  },
  {
   "cell_type": "code",
   "execution_count": 55,
   "id": "df0a4e01",
   "metadata": {},
   "outputs": [
    {
     "name": "stdout",
     "output_type": "stream",
     "text": [
      "[[1], [2], [0]]\n"
     ]
    }
   ],
   "source": [
    "numCourses = 3\n",
    "prerequisites = [[1,0],[0,2],[2,1]]\n",
    "graph = [[] for _ in range(numCourses)]\n",
    "for a,b in prerequisites: graph[b].append(a)\n",
    "\n",
    "print(graph)"
   ]
  },
  {
   "cell_type": "code",
   "execution_count": null,
   "id": "0028755b",
   "metadata": {},
   "outputs": [],
   "source": []
  }
 ],
 "metadata": {
  "kernelspec": {
   "display_name": "Python 3 (ipykernel)",
   "language": "python",
   "name": "python3"
  },
  "language_info": {
   "codemirror_mode": {
    "name": "ipython",
    "version": 3
   },
   "file_extension": ".py",
   "mimetype": "text/x-python",
   "name": "python",
   "nbconvert_exporter": "python",
   "pygments_lexer": "ipython3",
   "version": "3.11.4"
  }
 },
 "nbformat": 4,
 "nbformat_minor": 5
}
