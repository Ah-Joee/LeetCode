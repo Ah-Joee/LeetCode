{
 "cells": [
  {
   "cell_type": "markdown",
   "id": "771f1caf",
   "metadata": {},
   "source": [
    "# Problem"
   ]
  },
  {
   "cell_type": "markdown",
   "id": "6f46eba0",
   "metadata": {},
   "source": [
    "Given an `m x n` integer matrix `matrix`, if an element is `0`, set its entire row and column to `0`'s."
   ]
  },
  {
   "cell_type": "markdown",
   "id": "1c86da4c",
   "metadata": {},
   "source": [
    "Do this **in-place**."
   ]
  },
  {
   "cell_type": "markdown",
   "id": "a0a3e77e",
   "metadata": {},
   "source": [
    "# Example"
   ]
  },
  {
   "cell_type": "markdown",
   "id": "232d7286",
   "metadata": {},
   "source": [
    "**Input**: matrix = [[1,1,1],[1,0,1],[1,1,1]]\\\n",
    "**Output**: [[1,0,1],[0,0,0],[1,0,1]]"
   ]
  },
  {
   "cell_type": "markdown",
   "id": "a2d28973",
   "metadata": {},
   "source": [
    "**Input**: matrix = [[0,1,2,0],[3,4,5,2],[1,3,1,5]]\\\n",
    "**Output**: [[0,0,0,0],[0,4,5,0],[0,3,1,0]]"
   ]
  },
  {
   "cell_type": "markdown",
   "id": "c10cddfa",
   "metadata": {},
   "source": [
    "# Solution"
   ]
  },
  {
   "cell_type": "markdown",
   "id": "41ec2086",
   "metadata": {},
   "source": [
    "## Idea"
   ]
  },
  {
   "cell_type": "markdown",
   "id": "a9b41261",
   "metadata": {},
   "source": [
    "Iterate through the whole matrix and find the indices of row and column that has 0's. Set these rows and columns to zeros."
   ]
  },
  {
   "cell_type": "markdown",
   "id": "e7dbf6fa",
   "metadata": {},
   "source": [
    "## Code"
   ]
  },
  {
   "cell_type": "code",
   "execution_count": 1,
   "id": "b8f3bbd0",
   "metadata": {},
   "outputs": [],
   "source": [
    "def setZeros(matrix):\n",
    "    \"\"\"\n",
    "    Do not return anything, modify matrix in-place instead.\n",
    "    \"\"\"\n",
    "    row = []\n",
    "    col = []\n",
    "    \n",
    "    m = len(matrix)\n",
    "    n = len(matrix[0])\n",
    "    \n",
    "    for i in range(m):\n",
    "        for j in range(n):\n",
    "            if matrix[i][j] == 0:\n",
    "                row.append(i)\n",
    "                col.append(j)\n",
    "                \n",
    "    for r in row:\n",
    "        for j in range(n):\n",
    "            matrix[r][j] = 0\n",
    "            \n",
    "    for i in range(m):\n",
    "        for c in col:\n",
    "            matrix[i][c] = 0\n",
    "            "
   ]
  },
  {
   "cell_type": "markdown",
   "id": "6f7d09be",
   "metadata": {},
   "source": [
    "## Test"
   ]
  },
  {
   "cell_type": "code",
   "execution_count": 3,
   "id": "cfe47833",
   "metadata": {},
   "outputs": [
    {
     "data": {
      "text/plain": [
       "True"
      ]
     },
     "execution_count": 3,
     "metadata": {},
     "output_type": "execute_result"
    }
   ],
   "source": [
    "def test(f):\n",
    "    matrix1 = [[1,1,1],[1,0,1],[1,1,1]]\n",
    "    matrix2 = [[0,1,2,0],[3,4,5,2],[1,3,1,5]]\n",
    "    \n",
    "    f(matrix1)\n",
    "    f(matrix2)\n",
    "    \n",
    "    test1 = matrix1==[[1,0,1],[0,0,0],[1,0,1]]\n",
    "    test2 = matrix2==[[0,0,0,0],[0,4,5,0],[0,3,1,0]]\n",
    "    \n",
    "    return test1 and test2\n",
    "\n",
    "test(setZeros)"
   ]
  },
  {
   "cell_type": "code",
   "execution_count": null,
   "id": "7e096466",
   "metadata": {},
   "outputs": [],
   "source": []
  }
 ],
 "metadata": {
  "kernelspec": {
   "display_name": "Python [conda env:.conda-nanoGPT] *",
   "language": "python",
   "name": "conda-env-.conda-nanoGPT-py"
  },
  "language_info": {
   "codemirror_mode": {
    "name": "ipython",
    "version": 3
   },
   "file_extension": ".py",
   "mimetype": "text/x-python",
   "name": "python",
   "nbconvert_exporter": "python",
   "pygments_lexer": "ipython3",
   "version": "3.8.18"
  }
 },
 "nbformat": 4,
 "nbformat_minor": 5
}
