{
 "cells": [
  {
   "cell_type": "markdown",
   "id": "42bc637c",
   "metadata": {},
   "source": [
    "# Problem"
   ]
  },
  {
   "cell_type": "markdown",
   "id": "674a71aa",
   "metadata": {},
   "source": [
    "You are given an `n x n` 2D matrix representing an iamge, rotate the image by **90** degrees (clockwise)."
   ]
  },
  {
   "cell_type": "markdown",
   "id": "ff55377b",
   "metadata": {},
   "source": [
    "You have to rotate the image **in-place**, which means you have to modify the input 2D matrix directly. **Do Not** allocate another 2D matrix and do the rotation."
   ]
  },
  {
   "cell_type": "markdown",
   "id": "cf5a8203",
   "metadata": {},
   "source": [
    "# Example"
   ]
  },
  {
   "cell_type": "markdown",
   "id": "37166cbd",
   "metadata": {},
   "source": [
    "**Input**: matrix = [[1,2,3],[4,5,6],[7,8,9]]\\\n",
    "**Output**: [[7,4,1],[8,5,2],[9,6,3]]"
   ]
  },
  {
   "cell_type": "markdown",
   "id": "edf8ce7b",
   "metadata": {},
   "source": [
    "**Input**: matrix = [[5,1,9,11],[2,4,8,10],[13,3,6,7],[15,14,12,16]]\\\n",
    "**Output**: [[15,13,2,5],[14,3,4,1],[12,6,8,9],[16,7,10,11]]\n"
   ]
  },
  {
   "cell_type": "markdown",
   "id": "b65faaa5",
   "metadata": {},
   "source": [
    "# Solution"
   ]
  },
  {
   "cell_type": "markdown",
   "id": "671c4ba9",
   "metadata": {},
   "source": [
    "## Idea"
   ]
  },
  {
   "cell_type": "markdown",
   "id": "bcb71237",
   "metadata": {},
   "source": [
    "Flip vertically, then transpose."
   ]
  },
  {
   "cell_type": "markdown",
   "id": "1a94fcd5",
   "metadata": {},
   "source": [
    "## Code"
   ]
  },
  {
   "cell_type": "code",
   "execution_count": 14,
   "id": "2ba04010",
   "metadata": {},
   "outputs": [],
   "source": [
    "def rotate(matrix):\n",
    "    \"\"\"\n",
    "    Do not return anything, modify matrix in-place instead.\n",
    "    \"\"\"\n",
    "    n = len(matrix)\n",
    "    # flip the matrix vertically\n",
    "    for i in range(n//2):\n",
    "        matrix[i], matrix[-(1+i)] = matrix[-(1+i)], matrix[i]\n",
    "       \n",
    "    #\n",
    "    for i in range(n):\n",
    "        for j in range(n):\n",
    "            if i > j:\n",
    "                matrix[i][j], matrix[j][i] = matrix[j][i], matrix[i][j]\n",
    "                \n",
    "\n",
    "    "
   ]
  },
  {
   "cell_type": "markdown",
   "id": "9f02d0bc",
   "metadata": {},
   "source": [
    "## Test"
   ]
  },
  {
   "cell_type": "code",
   "execution_count": 16,
   "id": "ade2a812",
   "metadata": {},
   "outputs": [
    {
     "data": {
      "text/plain": [
       "True"
      ]
     },
     "execution_count": 16,
     "metadata": {},
     "output_type": "execute_result"
    }
   ],
   "source": [
    "def test(f):\n",
    "    matrix1 = [[1,2,3],[4,5,6],[7,8,9]]\n",
    "    matrix2 = [[5,1,9,11],[2,4,8,10],[13,3,6,7],[15,14,12,16]]\n",
    "    matrix3 = [[0]]\n",
    "    \n",
    "    rotate(matrix1)\n",
    "    rotate(matrix2)\n",
    "    rotate(matrix3)\n",
    "    \n",
    "    test1 = matrix1==[[7,4,1],[8,5,2],[9,6,3]]\n",
    "    test2 = matrix2==[[15,13,2,5],[14,3,4,1],[12,6,8,9],[16,7,10,11]]\n",
    "    test3 = matrix3==[[0]]\n",
    "    \n",
    "    return test1 and test2 and test3\n",
    "\n",
    "test(rotate)"
   ]
  },
  {
   "cell_type": "code",
   "execution_count": null,
   "id": "468ca7e1",
   "metadata": {},
   "outputs": [],
   "source": []
  }
 ],
 "metadata": {
  "kernelspec": {
   "display_name": "Python [conda env:.conda-nanoGPT] *",
   "language": "python",
   "name": "conda-env-.conda-nanoGPT-py"
  },
  "language_info": {
   "codemirror_mode": {
    "name": "ipython",
    "version": 3
   },
   "file_extension": ".py",
   "mimetype": "text/x-python",
   "name": "python",
   "nbconvert_exporter": "python",
   "pygments_lexer": "ipython3",
   "version": "3.8.18"
  }
 },
 "nbformat": 4,
 "nbformat_minor": 5
}
