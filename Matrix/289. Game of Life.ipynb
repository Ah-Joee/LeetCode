{
 "cells": [
  {
   "cell_type": "markdown",
   "id": "523f6d08",
   "metadata": {},
   "source": [
    "# Problem"
   ]
  },
  {
   "cell_type": "markdown",
   "id": "eed021f5",
   "metadata": {},
   "source": [
    "According to Wikipedia's article: \"The **Game of Life**, also knwon simply as **Life**, is a cellular automation devised by the British mathematician John Horton Conway in 1970.\""
   ]
  },
  {
   "cell_type": "markdown",
   "id": "df150869",
   "metadata": {},
   "source": [
    "The board is made up of an `m x n` grid of cells, where each cell has an initial state: **live** (represented by a `1`) or **dead** (represented by a `0`). Each cell intereacts with its eight neighbors (horizontal, vertical, diagonal) using the following four rules.\n",
    "\n",
    "1. Any live cell with fewer than two live neighbors dies as if caused by under-population.\n",
    "2. Any live cell with two or three live neighbors lives on to the next generation.\n",
    "3. Any live cell with more than three live neighnors dies, as if by over-population.\n",
    "4. Any dead cell with exactly three live neighbors becomes a live cell, as if by reproduction."
   ]
  },
  {
   "cell_type": "markdown",
   "id": "15c0df83",
   "metadata": {},
   "source": [
    "The next state is created by applying the above rules simultaneously to every cell in teh current state, where births and deaths occur simultaneously. Given the currenct state of the `m x n` grid `broad`, return the next state."
   ]
  },
  {
   "cell_type": "markdown",
   "id": "fe9ad03f",
   "metadata": {},
   "source": [
    "# Example"
   ]
  },
  {
   "cell_type": "markdown",
   "id": "2132687c",
   "metadata": {},
   "source": [
    "**Input**: board = [[0,1,0],[0,0,1],[1,1,1],[0,0,0]]\\\n",
    "**Output**: [[0,0,0],[1,0,1],[0,1,1],[0,1,0]]"
   ]
  },
  {
   "cell_type": "markdown",
   "id": "0ce2546d",
   "metadata": {},
   "source": [
    "**Input**: board = [[1,1],[1,0]]\\\n",
    "**Output**: [[1,1],[1,1]]"
   ]
  },
  {
   "cell_type": "markdown",
   "id": "838ef187",
   "metadata": {},
   "source": [
    "# Solution"
   ]
  },
  {
   "cell_type": "markdown",
   "id": "29f29f25",
   "metadata": {},
   "source": [
    "## Idea"
   ]
  },
  {
   "cell_type": "markdown",
   "id": "76b3b454",
   "metadata": {},
   "source": [
    "Define a helper function that returns the sum of the neighbors given the current position and the original board. Create a list `status` that holds a tuple of threee "
   ]
  },
  {
   "cell_type": "markdown",
   "id": "111de21b",
   "metadata": {},
   "source": [
    "## Code"
   ]
  },
  {
   "cell_type": "code",
   "execution_count": 9,
   "id": "41a6fd41",
   "metadata": {},
   "outputs": [],
   "source": [
    "def gameOfLife(board):\n",
    "    \"\"\"\n",
    "    Do not return anything, modify board in-place instead.\n",
    "    \"\"\"\n",
    "    \n",
    "    def sumOfNeighbors(board, row, col):\n",
    "        m, n = len(board), len(board[0])\n",
    "        s = 0\n",
    "        # left\n",
    "        if col>= 1:\n",
    "            s += board[row][col-1]\n",
    "            # upper left\n",
    "            if row>=1:\n",
    "                s += board[row-1][col-1]\n",
    "            # lower left\n",
    "            if row<m-1:\n",
    "                s += board[row+1][col-1]\n",
    "                \n",
    "        # right\n",
    "        if col<n-1:\n",
    "            s += board[row][col+1]\n",
    "            \n",
    "            # upper right\n",
    "            if row>=1:\n",
    "                s += board[row-1][col+1]\n",
    "            #lower right\n",
    "            if row<m-1:\n",
    "                s += board[row+1][col+1]       \n",
    "        # up\n",
    "        if row>=1:\n",
    "            s += board[row-1][col]\n",
    "        # down\n",
    "        if row<m-1:\n",
    "            s += board[row+1][col]\n",
    "        return s    \n",
    "    \n",
    "    m = len(board)\n",
    "    n = len(board[0])\n",
    "    status = []\n",
    "    \n",
    "    for i in range(m):\n",
    "        for j in range(n):\n",
    "            s = sumOfNeighbors(board, i, j)\n",
    "            status.append((i, j, s))\n",
    "            \n",
    "    for (i,j,s) in status:\n",
    "        if s<2 and board[i][j]==1:\n",
    "            board[i][j] = 0\n",
    "        \n",
    "        if 2<=s<=3 and board[i][j]==1:\n",
    "            board[i][j] = 1\n",
    "        if s>3 and board[i][j]==1:\n",
    "            board[i][j] = 0\n",
    "        if s==3 and board[i][j]==0:\n",
    "            board[i][j] = 1           \n",
    "        "
   ]
  },
  {
   "cell_type": "markdown",
   "id": "30479c8f",
   "metadata": {},
   "source": [
    "## Test"
   ]
  },
  {
   "cell_type": "code",
   "execution_count": 12,
   "id": "4c9260ef",
   "metadata": {
    "scrolled": true
   },
   "outputs": [
    {
     "data": {
      "text/plain": [
       "True"
      ]
     },
     "execution_count": 12,
     "metadata": {},
     "output_type": "execute_result"
    }
   ],
   "source": [
    "def test(f):\n",
    "    board1 = [[0,1,0],[0,0,1],[1,1,1],[0,0,0]]\n",
    "    board2 = [[1,1],[1,0]]\n",
    "    \n",
    "    f(board1)\n",
    "    f(board2)\n",
    "    \n",
    "    test1 = board1==[[0,0,0],[1,0,1],[0,1,1],[0,1,0]]\n",
    "    test2 = board2==[[1,1],[1,1]]\n",
    "    \n",
    "    return test1 and test2\n",
    "\n",
    "test(gameOfLife)"
   ]
  }
 ],
 "metadata": {
  "kernelspec": {
   "display_name": "Python [conda env:.conda-nanoGPT] *",
   "language": "python",
   "name": "conda-env-.conda-nanoGPT-py"
  },
  "language_info": {
   "codemirror_mode": {
    "name": "ipython",
    "version": 3
   },
   "file_extension": ".py",
   "mimetype": "text/x-python",
   "name": "python",
   "nbconvert_exporter": "python",
   "pygments_lexer": "ipython3",
   "version": "3.8.18"
  }
 },
 "nbformat": 4,
 "nbformat_minor": 5
}
