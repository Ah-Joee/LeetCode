{
 "cells": [
  {
   "cell_type": "markdown",
   "id": "f7c16357",
   "metadata": {},
   "source": [
    "# Problem"
   ]
  },
  {
   "cell_type": "markdown",
   "id": "b019164f",
   "metadata": {},
   "source": [
    "Given an `m x n` matrix, return all elements of the `matrix` in spiral order."
   ]
  },
  {
   "cell_type": "markdown",
   "id": "adcda1e6",
   "metadata": {},
   "source": [
    "# Example"
   ]
  },
  {
   "cell_type": "markdown",
   "id": "80d0743b",
   "metadata": {},
   "source": [
    "**Input**: matrix = [[1,2,3],[4,5,6],[7,8,9]]\\\n",
    "**Output**: [1,2,3,6,9,8,7,4,5]"
   ]
  },
  {
   "cell_type": "markdown",
   "id": "df128952",
   "metadata": {},
   "source": [
    "**Input**: matrix = [[1,2,3,4],[5,6,7,8],[9,10,11,12]]\\\n",
    "**Output**: [1,2,3,4,8,12,11,10,9,5,6,7]"
   ]
  },
  {
   "cell_type": "markdown",
   "id": "556c9e60",
   "metadata": {},
   "source": [
    "# Solution"
   ]
  },
  {
   "cell_type": "markdown",
   "id": "ce146422",
   "metadata": {},
   "source": [
    "## Idea"
   ]
  },
  {
   "cell_type": "markdown",
   "id": "df87f2fb",
   "metadata": {},
   "source": [
    "1. Initialize `res` to be the list that is returned and `i`, `j` being the target position.\n",
    "2. While the length of `res` is less than the total element of the matrix, do the following:\n",
    "    - Move right\n",
    "    - Move down\n",
    "    - Move up\n",
    "    - Move left\n",
    "3. Check whether the `res` has the same length as the total element after each move."
   ]
  },
  {
   "cell_type": "markdown",
   "id": "71ea6e2a",
   "metadata": {},
   "source": [
    "## Code"
   ]
  },
  {
   "cell_type": "code",
   "execution_count": 56,
   "id": "e01ed683",
   "metadata": {},
   "outputs": [],
   "source": [
    "def spiralOrder(matrix):\n",
    "    res = []\n",
    "    row = len(matrix)\n",
    "    col = len(matrix[0])\n",
    "    \n",
    "    bound = 0\n",
    "    i, j = 0, 0\n",
    "    res.append(matrix[i][j])\n",
    "    \n",
    "    while len(res) < len(matrix) * len(matrix[0]):\n",
    "        # move right\n",
    "        while j < col-1:\n",
    "            j += 1\n",
    "            res.append(matrix[i][j])\n",
    "        if len(res) == len(matrix) * len(matrix[0]):\n",
    "            break\n",
    "        \n",
    "        # move down\n",
    "        while i < row-1:\n",
    "            i += 1\n",
    "            res.append(matrix[i][j])\n",
    "        if len(res) == len(matrix) * len(matrix[0]):\n",
    "            break\n",
    "\n",
    "        # move left\n",
    "        while j > bound:\n",
    "            j -= 1\n",
    "            res.append(matrix[i][j])\n",
    "        if len(res) == len(matrix) * len(matrix[0]):\n",
    "            break\n",
    "\n",
    "        # move up\n",
    "        while i > bound+1:\n",
    "            i -= 1\n",
    "            res.append(matrix[i][j])\n",
    "        if len(res) == len(matrix) * len(matrix[0]):\n",
    "            break\n",
    "\n",
    "            \n",
    "        bound += 1\n",
    "        row -= 1\n",
    "        col -= 1\n",
    "\n",
    "            \n",
    "    return res       \n",
    "    "
   ]
  },
  {
   "cell_type": "markdown",
   "id": "303dce2f",
   "metadata": {},
   "source": [
    "## Test"
   ]
  },
  {
   "cell_type": "code",
   "execution_count": 57,
   "id": "9cc4593e",
   "metadata": {},
   "outputs": [
    {
     "data": {
      "text/plain": [
       "True"
      ]
     },
     "execution_count": 57,
     "metadata": {},
     "output_type": "execute_result"
    }
   ],
   "source": [
    "def test(f):\n",
    "    matrix = [[1,2,3],[4,5,6],[7,8,9]]\n",
    "    test1 = f(matrix)==[1,2,3,6,9,8,7,4,5]\n",
    "    \n",
    "    matrix = [[1,2,3,4],[5,6,7,8],[9,10,11,12]]\n",
    "    test2 = f(matrix)==[1,2,3,4,8,12,11,10,9,5,6,7]\n",
    "    \n",
    "    matrix = [[1,2,3,4],[5,6,7,8],[9,10,11,12],[13,14,15,16]]\n",
    "    test3 = f(matrix)==[1,2,3,4,8,12,16,15,14,13,9,5,6,7,11,10]\n",
    "    \n",
    "    matrix = [[0]]\n",
    "    test4 = f(matrix)==[0]\n",
    "    return test1 and test2 and test3 and test4\n",
    "test(spiralOrder)"
   ]
  }
 ],
 "metadata": {
  "kernelspec": {
   "display_name": "Python [conda env:.conda-nanoGPT] *",
   "language": "python",
   "name": "conda-env-.conda-nanoGPT-py"
  },
  "language_info": {
   "codemirror_mode": {
    "name": "ipython",
    "version": 3
   },
   "file_extension": ".py",
   "mimetype": "text/x-python",
   "name": "python",
   "nbconvert_exporter": "python",
   "pygments_lexer": "ipython3",
   "version": "3.8.18"
  }
 },
 "nbformat": 4,
 "nbformat_minor": 5
}
