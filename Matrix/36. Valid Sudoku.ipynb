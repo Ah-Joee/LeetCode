{
 "cells": [
  {
   "cell_type": "markdown",
   "id": "adb512fa",
   "metadata": {},
   "source": [
    "# Problem"
   ]
  },
  {
   "cell_type": "markdown",
   "id": "01647f1d",
   "metadata": {},
   "source": [
    "Determine if a `9 x 9` Sudoku board is valid. Only the filled cells need to be validated according to the following rules:\n",
    "1. Each row must contain the digits `1-9` without repetition.\n",
    "2. Each column must contain the digits `1-9` without repetition.\n",
    "3. Each of the nine `3 x 3` sub-boxes of the grid must contain the digits `1-9` without repetition."
   ]
  },
  {
   "cell_type": "markdown",
   "id": "c73174a8",
   "metadata": {},
   "source": [
    "**Note**:\n",
    "- A Sudoku board (partially filled) could be valid but is not necessarily solvable.\n",
    "- Only the filled cells need to be validated according to the mentioned rules."
   ]
  },
  {
   "cell_type": "markdown",
   "id": "271d0ab0",
   "metadata": {},
   "source": [
    "# Example"
   ]
  },
  {
   "cell_type": "markdown",
   "id": "3604b789",
   "metadata": {},
   "source": [
    "**Input**:  board = \\\n",
    "[[\"5\",\"3\",\".\",\".\",\"7\",\".\",\".\",\".\",\".\"]\\\n",
    ",[\"6\",\".\",\".\",\"1\",\"9\",\"5\",\".\",\".\",\".\"]\\\n",
    ",[\".\",\"9\",\"8\",\".\",\".\",\".\",\".\",\"6\",\".\"]\\\n",
    ",[\"8\",\".\",\".\",\".\",\"6\",\".\",\".\",\".\",\"3\"]\\\n",
    ",[\"4\",\".\",\".\",\"8\",\".\",\"3\",\".\",\".\",\"1\"]\\\n",
    ",[\"7\",\".\",\".\",\".\",\"2\",\".\",\".\",\".\",\"6\"]\\\n",
    ",[\".\",\"6\",\".\",\".\",\".\",\".\",\"2\",\"8\",\".\"]\\\n",
    ",[\".\",\".\",\".\",\"4\",\"1\",\"9\",\".\",\".\",\"5\"]\\\n",
    ",[\".\",\".\",\".\",\".\",\"8\",\".\",\".\",\"7\",\"9\"]]\n",
    "\n",
    "**Output**: true"
   ]
  },
  {
   "cell_type": "markdown",
   "id": "08a73b8d",
   "metadata": {},
   "source": [
    "**Input**: board = \\\n",
    "[[\"8\",\"3\",\".\",\".\",\"7\",\".\",\".\",\".\",\".\"]\\\n",
    ",[\"6\",\".\",\".\",\"1\",\"9\",\"5\",\".\",\".\",\".\"]\\\n",
    ",[\".\",\"9\",\"8\",\".\",\".\",\".\",\".\",\"6\",\".\"]\\\n",
    ",[\"8\",\".\",\".\",\".\",\"6\",\".\",\".\",\".\",\"3\"]\\\n",
    ",[\"4\",\".\",\".\",\"8\",\".\",\"3\",\".\",\".\",\"1\"]\\\n",
    ",[\"7\",\".\",\".\",\".\",\"2\",\".\",\".\",\".\",\"6\"]\\\n",
    ",[\".\",\"6\",\".\",\".\",\".\",\".\",\"2\",\"8\",\".\"]\\\n",
    ",[\".\",\".\",\".\",\"4\",\"1\",\"9\",\".\",\".\",\"5\"]\\\n",
    ",[\".\",\".\",\".\",\".\",\"8\",\".\",\".\",\"7\",\"9\"]]\n",
    "\n",
    "**Output**: false\\\n",
    "**Explanation**:Since there are two 8's in the top left 3x3 sub-box, it is invalid."
   ]
  },
  {
   "cell_type": "markdown",
   "id": "1a18101d",
   "metadata": {},
   "source": [
    "# Solution"
   ]
  },
  {
   "cell_type": "markdown",
   "id": "51a19537",
   "metadata": {},
   "source": [
    "## Idea"
   ]
  },
  {
   "cell_type": "markdown",
   "id": "6fc8b1cc",
   "metadata": {},
   "source": [
    "1. Initializes an empty list `res` which will be used to store all the valid elements in the board.\n",
    "2. Loop through each cell in the board using two nested \"for\" loops. For each cell, it retrieves the value of the elment in that cell and stores it in a variale called \"element\".\n",
    "3. If the element is not `'.'`, which means its is a valid number, the method adds three tuples to the `res` listt:\n",
    "    - The first tuple contains the row index and the element itself.\n",
    "    - The second tuple contains the element and the column index.\n",
    "    - The third tuple contains the floor division of the row index by 3 and the floor division of the column index by 3, and the element itself. This tuple represents the 3x3 sub-box that the current cell belongs to.\n",
    "    \n",
    "4. After processing all the cells, the method checks if hte length of `res` is equal to the length of the set of `res`"
   ]
  },
  {
   "cell_type": "markdown",
   "id": "43c8138d",
   "metadata": {},
   "source": [
    "## Code"
   ]
  },
  {
   "cell_type": "code",
   "execution_count": 48,
   "id": "7a810d53",
   "metadata": {},
   "outputs": [],
   "source": [
    "def isValidSudoku(board):\n",
    "    res = []\n",
    "    for i in range(9):\n",
    "        for j in range(9):\n",
    "            element = board[i][j]\n",
    "            \n",
    "            if element != '.':\n",
    "                res +=[(i, element), (element,j), (i//3, j//3, element)]\n",
    "    return len(res) == len(set(res))          \n",
    "    "
   ]
  },
  {
   "cell_type": "markdown",
   "id": "7d90f170",
   "metadata": {},
   "source": [
    "## Test"
   ]
  },
  {
   "cell_type": "code",
   "execution_count": 49,
   "id": "5e55da52",
   "metadata": {},
   "outputs": [
    {
     "data": {
      "text/plain": [
       "True"
      ]
     },
     "execution_count": 49,
     "metadata": {},
     "output_type": "execute_result"
    }
   ],
   "source": [
    "def test(f):\n",
    "    board = [[\"5\",\"3\",\".\",\".\",\"7\",\".\",\".\",\".\",\".\"]\n",
    ",[\"6\",\".\",\".\",\"1\",\"9\",\"5\",\".\",\".\",\".\"]\n",
    ",[\".\",\"9\",\"8\",\".\",\".\",\".\",\".\",\"6\",\".\"]\n",
    ",[\"8\",\".\",\".\",\".\",\"6\",\".\",\".\",\".\",\"3\"]\n",
    ",[\"4\",\".\",\".\",\"8\",\".\",\"3\",\".\",\".\",\"1\"]\n",
    ",[\"7\",\".\",\".\",\".\",\"2\",\".\",\".\",\".\",\"6\"]\n",
    ",[\".\",\"6\",\".\",\".\",\".\",\".\",\"2\",\"8\",\".\"]\n",
    ",[\".\",\".\",\".\",\"4\",\"1\",\"9\",\".\",\".\",\"5\"]\n",
    ",[\".\",\".\",\".\",\".\",\"8\",\".\",\".\",\"7\",\"9\"]]\n",
    "    test1 = f(board)==True\n",
    "    \n",
    "    board = [[\"8\",\"3\",\".\",\".\",\"7\",\".\",\".\",\".\",\".\"]\n",
    ",[\"6\",\".\",\".\",\"1\",\"9\",\"5\",\".\",\".\",\".\"]\n",
    ",[\".\",\"9\",\"8\",\".\",\".\",\".\",\".\",\"6\",\".\"]\n",
    ",[\"8\",\".\",\".\",\".\",\"6\",\".\",\".\",\".\",\"3\"]\n",
    ",[\"4\",\".\",\".\",\"8\",\".\",\"3\",\".\",\".\",\"1\"]\n",
    ",[\"7\",\".\",\".\",\".\",\"2\",\".\",\".\",\".\",\"6\"]\n",
    ",[\".\",\"6\",\".\",\".\",\".\",\".\",\"2\",\"8\",\".\"]\n",
    ",[\".\",\".\",\".\",\"4\",\"1\",\"9\",\".\",\".\",\"5\"]\n",
    ",[\".\",\".\",\".\",\".\",\"8\",\".\",\".\",\"7\",\"9\"]]\n",
    "    test2 = f(board)==False\n",
    "    \n",
    "    return test1 and test2\n",
    "test(isValidSudoku)"
   ]
  },
  {
   "cell_type": "code",
   "execution_count": null,
   "id": "92353440",
   "metadata": {},
   "outputs": [],
   "source": []
  }
 ],
 "metadata": {
  "kernelspec": {
   "display_name": "Python [conda env:.conda-nanoGPT] *",
   "language": "python",
   "name": "conda-env-.conda-nanoGPT-py"
  },
  "language_info": {
   "codemirror_mode": {
    "name": "ipython",
    "version": 3
   },
   "file_extension": ".py",
   "mimetype": "text/x-python",
   "name": "python",
   "nbconvert_exporter": "python",
   "pygments_lexer": "ipython3",
   "version": "3.8.18"
  }
 },
 "nbformat": 4,
 "nbformat_minor": 5
}
