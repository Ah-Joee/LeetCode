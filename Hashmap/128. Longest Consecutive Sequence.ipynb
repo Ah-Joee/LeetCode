{
 "cells": [
  {
   "cell_type": "markdown",
   "metadata": {},
   "source": [
    "# Problem"
   ]
  },
  {
   "cell_type": "markdown",
   "metadata": {},
   "source": [
    "Given an unsoted array integers `nums`, return the length of the longest consecutive elements sequence."
   ]
  },
  {
   "cell_type": "markdown",
   "metadata": {},
   "source": [
    "You must write an algorithm that runs in `O(n)` time."
   ]
  },
  {
   "cell_type": "markdown",
   "metadata": {},
   "source": [
    "# Example"
   ]
  },
  {
   "cell_type": "markdown",
   "metadata": {},
   "source": [
    "**Input**: nums = [100,4,200,1,3,2]\\\n",
    "**Output**: 4"
   ]
  },
  {
   "cell_type": "markdown",
   "metadata": {},
   "source": [
    "**Input**: nums = [0,3,7,2,5,8,4,6,0,1]\\\n",
    "**Output**: 9"
   ]
  },
  {
   "cell_type": "markdown",
   "metadata": {},
   "source": [
    "# Solution"
   ]
  },
  {
   "cell_type": "code",
   "execution_count": 2,
   "metadata": {},
   "outputs": [],
   "source": [
    "from collections import defaultdict\n",
    "def longestConsecutive(nums):\n",
    "    mp = defaultdict(list)\n",
    "    bl = defaultdict(bool)\n",
    "    mx = 0\n",
    "    for i in nums:\n",
    "        if bl[i]: continue\n",
    "        bl[i]=True\n",
    "        left, right = i, i\n",
    "        if mp[i+1]: right = mp[i+1][0]\n",
    "        if mp[i-1]: left = mp[i-1][1]\n",
    "\n",
    "        mp[right]=[right, left]\n",
    "        mp[left] =[right, left]\n",
    "        mx=max(mx, right-left+1)\n",
    "\n",
    "    return mx\n"
   ]
  }
 ],
 "metadata": {
  "kernelspec": {
   "display_name": "Python 3",
   "language": "python",
   "name": "python3"
  },
  "language_info": {
   "codemirror_mode": {
    "name": "ipython",
    "version": 3
   },
   "file_extension": ".py",
   "mimetype": "text/x-python",
   "name": "python",
   "nbconvert_exporter": "python",
   "pygments_lexer": "ipython3",
   "version": "3.9.13"
  }
 },
 "nbformat": 4,
 "nbformat_minor": 2
}
