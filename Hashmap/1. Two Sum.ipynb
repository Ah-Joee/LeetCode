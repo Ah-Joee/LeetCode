{
 "cells": [
  {
   "cell_type": "markdown",
   "id": "82908e1d",
   "metadata": {},
   "source": [
    "# Problem"
   ]
  },
  {
   "cell_type": "markdown",
   "id": "716d5b80",
   "metadata": {},
   "source": [
    "Given an array of integers `num` and an integer `target`, return indices of the two numbers such that they add up to `target`."
   ]
  },
  {
   "cell_type": "markdown",
   "id": "d1db88a2",
   "metadata": {},
   "source": [
    "You may assume that each input would have **exactly one solution**, and you may not use the same element twice."
   ]
  },
  {
   "cell_type": "markdown",
   "id": "c4675ef0",
   "metadata": {},
   "source": [
    "You can return the anser in any order."
   ]
  },
  {
   "cell_type": "markdown",
   "id": "9ffafb30",
   "metadata": {},
   "source": [
    "# Example"
   ]
  },
  {
   "cell_type": "markdown",
   "id": "fcc09b52",
   "metadata": {},
   "source": [
    "**Input**: nums = [2,7,11,15], target = 9\\\n",
    "**Output**: [0,1]"
   ]
  },
  {
   "cell_type": "markdown",
   "id": "b86e947c",
   "metadata": {},
   "source": [
    "**Input**: nums = [3,2,4], target = 6\\\n",
    "**Output**: [1,2]"
   ]
  },
  {
   "cell_type": "markdown",
   "id": "4d2636bd",
   "metadata": {},
   "source": [
    "**Input**: nums = [3,3], target = 6\\\n",
    "**Output**: [0,1]"
   ]
  },
  {
   "cell_type": "markdown",
   "id": "24fa0bbd",
   "metadata": {},
   "source": [
    "# Solution"
   ]
  },
  {
   "cell_type": "markdown",
   "id": "bc6a68e9",
   "metadata": {},
   "source": [
    "## Idea"
   ]
  },
  {
   "cell_type": "markdown",
   "id": "3af0992b",
   "metadata": {},
   "source": [
    "1. If the input has only two elements, return [0,1]\n"
   ]
  },
  {
   "cell_type": "markdown",
   "id": "c9eac1f3",
   "metadata": {},
   "source": [
    "## Code"
   ]
  },
  {
   "cell_type": "code",
   "execution_count": 15,
   "id": "43db69a5",
   "metadata": {},
   "outputs": [],
   "source": [
    "def twoSum(nums, target):\n",
    "    \n",
    "    numMap"
   ]
  },
  {
   "cell_type": "markdown",
   "id": "5415a533",
   "metadata": {},
   "source": [
    "## Test"
   ]
  },
  {
   "cell_type": "code",
   "execution_count": 16,
   "id": "f0395d54",
   "metadata": {},
   "outputs": [],
   "source": [
    "def test(f):\n",
    "    test1 = f([2,7,11,15], 9)==[0,1]\n",
    "    test2 = f([3,2,4], 6)==[1,2]\n",
    "    test3 = f([3,3], 6)==[0,1]\n",
    "    \n",
    "    return test1 and test2 and test3"
   ]
  },
  {
   "cell_type": "code",
   "execution_count": 17,
   "id": "673b62ba",
   "metadata": {},
   "outputs": [
    {
     "data": {
      "text/plain": [
       "True"
      ]
     },
     "execution_count": 17,
     "metadata": {},
     "output_type": "execute_result"
    }
   ],
   "source": [
    "test(twoSum)"
   ]
  }
 ],
 "metadata": {
  "kernelspec": {
   "display_name": "Python [conda env:.conda-nanoGPT] *",
   "language": "python",
   "name": "conda-env-.conda-nanoGPT-py"
  },
  "language_info": {
   "codemirror_mode": {
    "name": "ipython",
    "version": 3
   },
   "file_extension": ".py",
   "mimetype": "text/x-python",
   "name": "python",
   "nbconvert_exporter": "python",
   "pygments_lexer": "ipython3",
   "version": "3.8.18"
  }
 },
 "nbformat": 4,
 "nbformat_minor": 5
}
