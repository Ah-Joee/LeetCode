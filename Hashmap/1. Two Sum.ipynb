{
 "cells": [
  {
   "cell_type": "markdown",
   "id": "6a10e7ce",
   "metadata": {},
   "source": [
    "# Problem"
   ]
  },
  {
   "cell_type": "markdown",
   "id": "bdc033cb",
   "metadata": {},
   "source": [
    "Given an array of integers `num` and an integer `target`, return indices of the two numbers such that they add up to `target`."
   ]
  },
  {
   "cell_type": "markdown",
   "id": "0ad57347",
   "metadata": {},
   "source": [
    "You may assume that each input would have **exactly one solution**, and you may not use the same element twice."
   ]
  },
  {
   "cell_type": "markdown",
   "id": "f8c1365f",
   "metadata": {},
   "source": [
    "You can return the anser in any order."
   ]
  },
  {
   "cell_type": "markdown",
   "id": "f82b0613",
   "metadata": {},
   "source": [
    "# Example"
   ]
  },
  {
   "cell_type": "markdown",
   "id": "87038133",
   "metadata": {},
   "source": [
    "**Input**: nums = [2,7,11,15], target = 9\\\n",
    "**Output**: [0,1]"
   ]
  },
  {
   "cell_type": "markdown",
   "id": "d3332d87",
   "metadata": {},
   "source": [
    "**Input**: nums = [3,2,4], target = 6\\\n",
    "**Output**: [1,2]"
   ]
  },
  {
   "cell_type": "markdown",
   "id": "e608db35",
   "metadata": {},
   "source": [
    "**Input**: nums = [3,3], target = 6\\\n",
    "**Output**: [0,1]"
   ]
  },
  {
   "cell_type": "markdown",
   "id": "8c6c44a5",
   "metadata": {},
   "source": [
    "# Solution"
   ]
  },
  {
   "cell_type": "markdown",
   "id": "1844274a",
   "metadata": {},
   "source": [
    "## Idea"
   ]
  },
  {
   "cell_type": "markdown",
   "id": "1a880e9a",
   "metadata": {},
   "source": [
    "1. If the input has only two elements, return [0,1]\n",
    "2. Use `map` with complement and itereate through each element in `nums`.\n"
   ]
  },
  {
   "cell_type": "markdown",
   "id": "b49b6418",
   "metadata": {},
   "source": [
    "## Code"
   ]
  },
  {
   "cell_type": "code",
   "execution_count": 1,
   "id": "ca6341d2",
   "metadata": {},
   "outputs": [],
   "source": [
    "def twoSum(nums, target):\n",
    "    n = len(nums)\n",
    "    if n==2:\n",
    "        return [0,1]\n",
    "    numMap = {}\n",
    "    for i in range(n):\n",
    "        complement = target - nums[i]\n",
    "        if complement in numMap:\n",
    "            return [numMap[complement], i]\n",
    "        numMap[nums[i]] = i  \n",
    "    return []"
   ]
  },
  {
   "cell_type": "markdown",
   "id": "7a1fa3dd",
   "metadata": {},
   "source": [
    "## Test"
   ]
  },
  {
   "cell_type": "code",
   "execution_count": 2,
   "id": "74d570ed",
   "metadata": {},
   "outputs": [],
   "source": [
    "def test(f):\n",
    "    test1 = f([2,7,11,15], 9)==[0,1]\n",
    "    test2 = f([3,2,4], 6)==[1,2]\n",
    "    test3 = f([3,3], 6)==[0,1]\n",
    "    \n",
    "    return test1 and test2 and test3"
   ]
  },
  {
   "cell_type": "code",
   "execution_count": 3,
   "id": "bfe91cc3",
   "metadata": {},
   "outputs": [
    {
     "data": {
      "text/plain": [
       "True"
      ]
     },
     "execution_count": 3,
     "metadata": {},
     "output_type": "execute_result"
    }
   ],
   "source": [
    "test(twoSum)"
   ]
  }
 ],
 "metadata": {
  "kernelspec": {
   "display_name": "Python [conda env:.conda-nanoGPT] *",
   "language": "python",
   "name": "conda-env-.conda-nanoGPT-py"
  },
  "language_info": {
   "codemirror_mode": {
    "name": "ipython",
    "version": 3
   },
   "file_extension": ".py",
   "mimetype": "text/x-python",
   "name": "python",
   "nbconvert_exporter": "python",
   "pygments_lexer": "ipython3",
   "version": "3.8.18"
  }
 },
 "nbformat": 4,
 "nbformat_minor": 5
}
