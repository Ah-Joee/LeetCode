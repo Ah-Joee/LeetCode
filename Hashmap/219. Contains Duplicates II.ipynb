{
 "cells": [
  {
   "cell_type": "markdown",
   "id": "ad50ba6a",
   "metadata": {},
   "source": [
    "# Problem"
   ]
  },
  {
   "cell_type": "markdown",
   "id": "2578a5e2",
   "metadata": {},
   "source": [
    "Given an integer array `nums` and an integer `k`, return `true` if there are two **distinct incidices** i and j in the array such that `nums[i] == nums[j]` and `abs(i-j) <= k`."
   ]
  },
  {
   "cell_type": "markdown",
   "id": "85945938",
   "metadata": {},
   "source": [
    "# Example"
   ]
  },
  {
   "cell_type": "markdown",
   "id": "23011d84",
   "metadata": {},
   "source": [
    "**Input**: nums = [1,2,3,1], k = 3\\\n",
    "**Output**: true"
   ]
  },
  {
   "cell_type": "markdown",
   "id": "94ed6bbd",
   "metadata": {},
   "source": [
    "**Input**: nums = [1,0,1,1], k = 1\\\n",
    "**Output**: true"
   ]
  },
  {
   "cell_type": "markdown",
   "id": "9db25184",
   "metadata": {},
   "source": [
    "**Input**: nums = [1,2,3,1,2,3], k = 2\\\n",
    "**Output**: false"
   ]
  },
  {
   "cell_type": "markdown",
   "id": "cb08aa6f",
   "metadata": {},
   "source": [
    "# Solution"
   ]
  },
  {
   "cell_type": "markdown",
   "id": "b3fe0bab",
   "metadata": {},
   "source": [
    "## Idea"
   ]
  },
  {
   "cell_type": "markdown",
   "id": "241e1c96",
   "metadata": {},
   "source": [
    "1. Initialize a hashmap `d` that maps the element appeared to it's index.\n",
    "2. Iterate through the element and check in the element has appeared (contained in `d`) and if it does, reture `true` if the distance is less than `k`."
   ]
  },
  {
   "cell_type": "markdown",
   "id": "50042fa6",
   "metadata": {},
   "source": [
    "## Code"
   ]
  },
  {
   "cell_type": "code",
   "execution_count": 55,
   "id": "50214c07",
   "metadata": {},
   "outputs": [],
   "source": [
    "def containNearbyDuplicate(nums, k):\n",
    "    d = {}\n",
    "    \n",
    "    for i, n in enumerate(nums):\n",
    "        if n in d and abs(i-d[n]) <= k:\n",
    "            return True\n",
    "        d[n] = i\n",
    "    return False"
   ]
  },
  {
   "cell_type": "markdown",
   "id": "19d950c0",
   "metadata": {},
   "source": [
    "## Test"
   ]
  },
  {
   "cell_type": "code",
   "execution_count": 56,
   "id": "0a3a9bc3",
   "metadata": {},
   "outputs": [],
   "source": [
    "def test(f):\n",
    "    test1 = f([1,2,3,1], 3)==True\n",
    "    test2 = f([1,0,1,1], 1)==True\n",
    "    test3 = f([1,2,3,1,2,3], 2)==False\n",
    "    return test1 and test2 and test3"
   ]
  },
  {
   "cell_type": "code",
   "execution_count": 57,
   "id": "40779211",
   "metadata": {},
   "outputs": [
    {
     "data": {
      "text/plain": [
       "True"
      ]
     },
     "execution_count": 57,
     "metadata": {},
     "output_type": "execute_result"
    }
   ],
   "source": [
    "test(containNearbyDuplicate)"
   ]
  },
  {
   "cell_type": "code",
   "execution_count": null,
   "id": "6fb0cae8",
   "metadata": {},
   "outputs": [],
   "source": []
  }
 ],
 "metadata": {
  "kernelspec": {
   "display_name": "Python [conda env:.conda-nanoGPT] *",
   "language": "python",
   "name": "conda-env-.conda-nanoGPT-py"
  },
  "language_info": {
   "codemirror_mode": {
    "name": "ipython",
    "version": 3
   },
   "file_extension": ".py",
   "mimetype": "text/x-python",
   "name": "python",
   "nbconvert_exporter": "python",
   "pygments_lexer": "ipython3",
   "version": "3.8.18"
  }
 },
 "nbformat": 4,
 "nbformat_minor": 5
}
