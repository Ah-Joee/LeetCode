{
 "cells": [
  {
   "cell_type": "markdown",
   "id": "06011d4f",
   "metadata": {},
   "source": [
    "# Problem"
   ]
  },
  {
   "cell_type": "markdown",
   "id": "3c0d5bd6",
   "metadata": {},
   "source": [
    "Given two strings `s` and `t`, determine if they are isomorphic."
   ]
  },
  {
   "cell_type": "markdown",
   "id": "99f0228e",
   "metadata": {},
   "source": [
    "Two strings `s` and `t` are isomorphic if the characters in `s` can be replaced to get `t`."
   ]
  },
  {
   "cell_type": "markdown",
   "id": "5e9b40f7",
   "metadata": {},
   "source": [
    "All occurences of a character must be replaced with another character while presrving the order of characters. No two characters may map to the same character, but a character may map to itself."
   ]
  },
  {
   "cell_type": "markdown",
   "id": "6bf321a2",
   "metadata": {},
   "source": [
    "# Example"
   ]
  },
  {
   "cell_type": "markdown",
   "id": "84fc818a",
   "metadata": {},
   "source": [
    "**Input**: s = \"egg\", t = \"add\"\\\n",
    "**Output**: true"
   ]
  },
  {
   "cell_type": "markdown",
   "id": "606f78da",
   "metadata": {},
   "source": [
    "**Input**: s = \"foo\", t = \"bar\"\\\n",
    "**Output**: false"
   ]
  },
  {
   "cell_type": "markdown",
   "id": "22c2888a",
   "metadata": {},
   "source": [
    "**Input**: s = \"paper\", t = \"title\"\\\n",
    "**Output**: true"
   ]
  },
  {
   "cell_type": "markdown",
   "id": "66ab7fd2",
   "metadata": {},
   "source": [
    "# Solution"
   ]
  },
  {
   "cell_type": "markdown",
   "id": "c0628637",
   "metadata": {},
   "source": [
    "## Idea"
   ]
  },
  {
   "cell_type": "markdown",
   "id": "83b7df63",
   "metadata": {},
   "source": [
    "Use `map` function to convert each letter with an index (which representing the order of the appearence) and compare two list."
   ]
  },
  {
   "cell_type": "markdown",
   "id": "d897af10",
   "metadata": {},
   "source": [
    "## Code"
   ]
  },
  {
   "cell_type": "code",
   "execution_count": 14,
   "id": "cda505e2",
   "metadata": {},
   "outputs": [],
   "source": [
    "def isIsomorphic(s, t):\n",
    "    return list(map(s.index, s)) == list(map(t.index, t))"
   ]
  },
  {
   "cell_type": "markdown",
   "id": "87a4bd23",
   "metadata": {},
   "source": [
    "## Test"
   ]
  },
  {
   "cell_type": "code",
   "execution_count": 15,
   "id": "744f975e",
   "metadata": {},
   "outputs": [],
   "source": [
    "def test(f):\n",
    "    test1 = f(\"egg\", \"add\")==True\n",
    "    test2 = f(\"foo\", \"bar\")==False\n",
    "    test3 = f(\"paper\", \"title\")==True\n",
    "    \n",
    "    return test1 and test2 and test3"
   ]
  },
  {
   "cell_type": "code",
   "execution_count": 16,
   "id": "6a3f1557",
   "metadata": {},
   "outputs": [
    {
     "data": {
      "text/plain": [
       "True"
      ]
     },
     "execution_count": 16,
     "metadata": {},
     "output_type": "execute_result"
    }
   ],
   "source": [
    "test(isIsomorphic)"
   ]
  }
 ],
 "metadata": {
  "kernelspec": {
   "display_name": "Python 3 (ipykernel)",
   "language": "python",
   "name": "python3"
  },
  "language_info": {
   "codemirror_mode": {
    "name": "ipython",
    "version": 3
   },
   "file_extension": ".py",
   "mimetype": "text/x-python",
   "name": "python",
   "nbconvert_exporter": "python",
   "pygments_lexer": "ipython3",
   "version": "3.8.18"
  }
 },
 "nbformat": 4,
 "nbformat_minor": 5
}
