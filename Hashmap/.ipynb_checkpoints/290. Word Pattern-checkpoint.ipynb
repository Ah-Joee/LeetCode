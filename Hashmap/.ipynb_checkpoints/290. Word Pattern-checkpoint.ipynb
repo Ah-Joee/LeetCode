{
 "cells": [
  {
   "cell_type": "markdown",
   "id": "7cc5c5ed",
   "metadata": {},
   "source": [
    "# Problem"
   ]
  },
  {
   "cell_type": "markdown",
   "id": "afc44bc2",
   "metadata": {},
   "source": [
    "Given a `pattern` and a string `s`, find if `s` follows the same pattern."
   ]
  },
  {
   "cell_type": "markdown",
   "id": "17fab0c4",
   "metadata": {},
   "source": [
    "Here **follow** means a full match, such that there is a bijection between a letter in `pattern` and a **non-empty** word in `s`."
   ]
  },
  {
   "cell_type": "markdown",
   "id": "1ef41f91",
   "metadata": {},
   "source": [
    "# Example"
   ]
  },
  {
   "cell_type": "markdown",
   "id": "2cbcbdc8",
   "metadata": {},
   "source": [
    "**Input**: pattern = \"abba\", s = \"dog cat cat dog\"\\\n",
    "**Output**: true"
   ]
  },
  {
   "cell_type": "markdown",
   "id": "371debf0",
   "metadata": {},
   "source": [
    "**Intput**: pattern = \"abba\", s = \"dog cat cat fish\"\\\n",
    "**Output**: false"
   ]
  },
  {
   "cell_type": "markdown",
   "id": "9b33a608",
   "metadata": {},
   "source": [
    "**Input**: pattern = \"aaaa\", s = \"dog cat cat dog\"\\\n",
    "**Output**: false"
   ]
  },
  {
   "cell_type": "markdown",
   "id": "7d50605c",
   "metadata": {},
   "source": [
    "# Solution"
   ]
  },
  {
   "cell_type": "markdown",
   "id": "af6566fc",
   "metadata": {},
   "source": [
    "## Idea"
   ]
  },
  {
   "cell_type": "markdown",
   "id": "a298abe1",
   "metadata": {},
   "source": [
    "Split the `s` so that each word becomes an element in a list. Map the character index to character appearence in the pattern and the word index to word appearence in the `s`. Compare two maps."
   ]
  },
  {
   "cell_type": "markdown",
   "id": "0f0b2b84",
   "metadata": {},
   "source": [
    "## Code"
   ]
  },
  {
   "cell_type": "code",
   "execution_count": 20,
   "id": "76f2910a",
   "metadata": {},
   "outputs": [],
   "source": [
    "def wordPattern(pattern, s):\n",
    "    return list(map(pattern.index, pattern)) == list(map(s.split(\" \").index, s.split(\" \")))\n",
    "    "
   ]
  },
  {
   "cell_type": "markdown",
   "id": "378fe688",
   "metadata": {},
   "source": [
    "## Test"
   ]
  },
  {
   "cell_type": "code",
   "execution_count": 21,
   "id": "f409564c",
   "metadata": {},
   "outputs": [],
   "source": [
    "def test(f):\n",
    "    test1 = f(\"abba\", \"dog cat cat dog\")==True\n",
    "    test2 = f(\"abba\", \"dog cat cat fish\")==False\n",
    "    test3 = f(\"aaaa\", \"dog cat cat dog\")==False\n",
    "    \n",
    "    return test1 and test2 and test3\n",
    "    "
   ]
  },
  {
   "cell_type": "code",
   "execution_count": 22,
   "id": "d43a1312",
   "metadata": {},
   "outputs": [
    {
     "data": {
      "text/plain": [
       "True"
      ]
     },
     "execution_count": 22,
     "metadata": {},
     "output_type": "execute_result"
    }
   ],
   "source": [
    "test(wordPattern)"
   ]
  }
 ],
 "metadata": {
  "kernelspec": {
   "display_name": "Python [conda env:.conda-nanoGPT] *",
   "language": "python",
   "name": "conda-env-.conda-nanoGPT-py"
  },
  "language_info": {
   "codemirror_mode": {
    "name": "ipython",
    "version": 3
   },
   "file_extension": ".py",
   "mimetype": "text/x-python",
   "name": "python",
   "nbconvert_exporter": "python",
   "pygments_lexer": "ipython3",
   "version": "3.8.18"
  }
 },
 "nbformat": 4,
 "nbformat_minor": 5
}
