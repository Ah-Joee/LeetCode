{
 "cells": [
  {
   "cell_type": "markdown",
   "id": "02e7d941",
   "metadata": {},
   "source": [
    "# Problem"
   ]
  },
  {
   "cell_type": "markdown",
   "id": "b2e291ed",
   "metadata": {},
   "source": [
    "Given two strings `ransomNote` and `magazine`, return `true` if `ransomNote` can be constructed by using the letters from `magazine` and `false` otherwise."
   ]
  },
  {
   "cell_type": "markdown",
   "id": "7d3ca45f",
   "metadata": {},
   "source": [
    "Each letter in `magazine` can only be used once in `ransomNote`."
   ]
  },
  {
   "cell_type": "markdown",
   "id": "a40590ea",
   "metadata": {},
   "source": [
    "# Example"
   ]
  },
  {
   "cell_type": "markdown",
   "id": "00d0063d",
   "metadata": {},
   "source": [
    "**Input**: ransomNote = \"a\", magazine = \"b\"\\\n",
    "**Output**: false"
   ]
  },
  {
   "cell_type": "markdown",
   "id": "f188ca10",
   "metadata": {},
   "source": [
    "**Input**: ransomNote = \"aa\", magazine = \"ab\"\\\n",
    "**Output**: false"
   ]
  },
  {
   "cell_type": "markdown",
   "id": "5f698b7d",
   "metadata": {},
   "source": [
    "**Input**: ransomNote = \"aa\", maganize = \"aab\"\\\n",
    "**Output**: true"
   ]
  },
  {
   "cell_type": "markdown",
   "id": "42dd156c",
   "metadata": {},
   "source": [
    "# Solution"
   ]
  },
  {
   "cell_type": "markdown",
   "id": "4bef183c",
   "metadata": {},
   "source": [
    "## Idea"
   ]
  },
  {
   "cell_type": "markdown",
   "id": "325d9eb4",
   "metadata": {},
   "source": [
    "Checking that the amount of each characters appeared in `ransomNote` is less than that of `magazine`."
   ]
  },
  {
   "cell_type": "markdown",
   "id": "74cdd952",
   "metadata": {},
   "source": [
    "## Code"
   ]
  },
  {
   "cell_type": "code",
   "execution_count": 8,
   "id": "8c27588c",
   "metadata": {},
   "outputs": [],
   "source": [
    "def canConstruct(ransomNote, magazine):\n",
    "    return all(ransomNote.count(c) <= magazine.count(c) for c in set(ransomNote))"
   ]
  },
  {
   "cell_type": "markdown",
   "id": "6294e370",
   "metadata": {},
   "source": [
    "## Test"
   ]
  },
  {
   "cell_type": "code",
   "execution_count": 9,
   "id": "1110af39",
   "metadata": {},
   "outputs": [],
   "source": [
    "def test(f):\n",
    "    test1 = f(\"a\",\"b\")==False\n",
    "    test2 = f(\"aa\", \"ab\")==False\n",
    "    test3 = f(\"aa\", \"aab\") == True\n",
    "    \n",
    "    \n",
    "    return test1 and test2 and test3"
   ]
  },
  {
   "cell_type": "code",
   "execution_count": 10,
   "id": "e01eb434",
   "metadata": {},
   "outputs": [
    {
     "data": {
      "text/plain": [
       "True"
      ]
     },
     "execution_count": 10,
     "metadata": {},
     "output_type": "execute_result"
    }
   ],
   "source": [
    "test(canConstruct)"
   ]
  },
  {
   "cell_type": "code",
   "execution_count": null,
   "id": "3af27af8",
   "metadata": {},
   "outputs": [],
   "source": []
  }
 ],
 "metadata": {
  "kernelspec": {
   "display_name": "Python [conda env:.conda-nanoGPT] *",
   "language": "python",
   "name": "conda-env-.conda-nanoGPT-py"
  },
  "language_info": {
   "codemirror_mode": {
    "name": "ipython",
    "version": 3
   },
   "file_extension": ".py",
   "mimetype": "text/x-python",
   "name": "python",
   "nbconvert_exporter": "python",
   "pygments_lexer": "ipython3",
   "version": "3.8.18"
  }
 },
 "nbformat": 4,
 "nbformat_minor": 5
}
