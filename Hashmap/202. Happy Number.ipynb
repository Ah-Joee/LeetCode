{
 "cells": [
  {
   "cell_type": "markdown",
   "id": "cf620554",
   "metadata": {},
   "source": [
    "# Problem"
   ]
  },
  {
   "cell_type": "markdown",
   "id": "fad3e3e9",
   "metadata": {},
   "source": [
    "Write an algorithm to determine if a number `n` is happy."
   ]
  },
  {
   "cell_type": "markdown",
   "id": "458e78dc",
   "metadata": {},
   "source": [
    "A **happy number** is a number defined by the following process:\n",
    "\n",
    "- Starting with any positive integer, replace the number by the sum of the squares of its digits.\n",
    "- Repeate the process until the number equals 1 (wehre it will stay), or it **loops endlessly in a cycle** which does not include 1.\n",
    "- Those numbers for which this process **ends in 1** are happy."
   ]
  },
  {
   "cell_type": "markdown",
   "id": "b02c4e4a",
   "metadata": {},
   "source": [
    "Return `true` if `n` is a happy number, and `false` if not."
   ]
  },
  {
   "cell_type": "markdown",
   "id": "794df3ec",
   "metadata": {},
   "source": [
    "# Example"
   ]
  },
  {
   "cell_type": "markdown",
   "id": "974b83ae",
   "metadata": {},
   "source": [
    "**Input**: n = 19\\\n",
    "**Output**: true\\\n",
    "**Explanation**:\\\n",
    "$1^2 + 9^2 = 82$\\\n",
    "$8^2 + 2^2 = 68$\\\n",
    "$6^2 + 8^2 =100$\\\n",
    "$1^2 + 0^2 + 0^2 = 1$"
   ]
  },
  {
   "cell_type": "markdown",
   "id": "7543bfef",
   "metadata": {},
   "source": [
    "**Input**: n = 2\\\n",
    "**Output**: false"
   ]
  },
  {
   "cell_type": "markdown",
   "id": "f35af7ef",
   "metadata": {},
   "source": [
    "# Solution"
   ]
  },
  {
   "cell_type": "markdown",
   "id": "39012013",
   "metadata": {},
   "source": [
    "## Idea"
   ]
  },
  {
   "cell_type": "markdown",
   "id": "3f2e75c9",
   "metadata": {},
   "source": [
    "Use a helper function `squareSum` to calculate for hte square sum. Use a list to store every number that appear to avoid infinite loop. If the squareSum has appeared in the list, return false, else continue until 1 shows up."
   ]
  },
  {
   "cell_type": "markdown",
   "id": "43557cd6",
   "metadata": {},
   "source": [
    "## Code"
   ]
  },
  {
   "cell_type": "code",
   "execution_count": 33,
   "id": "515a15f9",
   "metadata": {},
   "outputs": [],
   "source": [
    "def isHappy(n):\n",
    "    \n",
    "    def squareSum(n):\n",
    "        squares = []\n",
    "        while n!=0:\n",
    "            squares.append((n%10)**2)\n",
    "            n = n//10\n",
    "        return sum(squares)\n",
    "    \n",
    "    \n",
    "    \n",
    "    s = squareSum(n)\n",
    "    if s == 1:\n",
    "        return True\n",
    "    \n",
    "    appeared = []\n",
    "    while s != 1:\n",
    "        if s in appeared:\n",
    "            return False\n",
    "        appeared.append(s)\n",
    "        s = squareSum(s)  \n",
    "    return True"
   ]
  },
  {
   "cell_type": "markdown",
   "id": "67a0837f",
   "metadata": {},
   "source": [
    "## Test"
   ]
  },
  {
   "cell_type": "code",
   "execution_count": 34,
   "id": "8341b60a",
   "metadata": {},
   "outputs": [],
   "source": [
    "def test(f):\n",
    "    test1 = f(19)==True\n",
    "    test2 = f(2)==False\n",
    "    \n",
    "    return test1 and test2"
   ]
  },
  {
   "cell_type": "code",
   "execution_count": 35,
   "id": "42a76bfe",
   "metadata": {},
   "outputs": [
    {
     "data": {
      "text/plain": [
       "True"
      ]
     },
     "execution_count": 35,
     "metadata": {},
     "output_type": "execute_result"
    }
   ],
   "source": [
    "test(isHappy)"
   ]
  }
 ],
 "metadata": {
  "kernelspec": {
   "display_name": "Python [conda env:.conda-nanoGPT] *",
   "language": "python",
   "name": "conda-env-.conda-nanoGPT-py"
  },
  "language_info": {
   "codemirror_mode": {
    "name": "ipython",
    "version": 3
   },
   "file_extension": ".py",
   "mimetype": "text/x-python",
   "name": "python",
   "nbconvert_exporter": "python",
   "pygments_lexer": "ipython3",
   "version": "3.8.18"
  }
 },
 "nbformat": 4,
 "nbformat_minor": 5
}
