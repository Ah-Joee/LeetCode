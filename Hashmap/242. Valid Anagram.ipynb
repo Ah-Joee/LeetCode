{
 "cells": [
  {
   "cell_type": "markdown",
   "id": "4885c788",
   "metadata": {},
   "source": [
    "# Problem"
   ]
  },
  {
   "cell_type": "markdown",
   "id": "7fb35cd7",
   "metadata": {},
   "source": [
    "Given two strings `s` and `t`, return `true` if `t` is an anagram of `s`, and `false` otherwise."
   ]
  },
  {
   "cell_type": "markdown",
   "id": "5e3f6fc2",
   "metadata": {},
   "source": [
    "An **Anagram** is a word or phrase formed by rearranging the letters of a different word or phrase, typically using all the original letters exactly once."
   ]
  },
  {
   "cell_type": "markdown",
   "id": "3867a119",
   "metadata": {},
   "source": [
    "# Example"
   ]
  },
  {
   "cell_type": "markdown",
   "id": "0d3ab4e3",
   "metadata": {},
   "source": [
    "**Input**: s = \"anagram\", t = \"nagaram\"\\\n",
    "**Output**: true"
   ]
  },
  {
   "cell_type": "markdown",
   "id": "f8191593",
   "metadata": {},
   "source": [
    "**Intput**: s = \"rat\", t = \"car\"\\\n",
    "**Output**: false"
   ]
  },
  {
   "cell_type": "markdown",
   "id": "015b6036",
   "metadata": {},
   "source": [
    "# Solution"
   ]
  },
  {
   "cell_type": "markdown",
   "id": "79787d27",
   "metadata": {},
   "source": [
    "## Idea"
   ]
  },
  {
   "cell_type": "markdown",
   "id": "97a39a93",
   "metadata": {},
   "source": [
    "Compare the `set` of `s` and `t` and then compare the word counts."
   ]
  },
  {
   "cell_type": "markdown",
   "id": "04dfdbfc",
   "metadata": {},
   "source": [
    "## Code"
   ]
  },
  {
   "cell_type": "code",
   "execution_count": 2,
   "id": "fbcc5226",
   "metadata": {},
   "outputs": [],
   "source": [
    "def isAnagram(s,t):\n",
    "    if set(s)==set(t):\n",
    "        if all(s.count(c)==t.count(c) for c in set(s)):\n",
    "            return True\n",
    "    return False"
   ]
  },
  {
   "cell_type": "markdown",
   "id": "69d218eb",
   "metadata": {},
   "source": [
    "## Test"
   ]
  },
  {
   "cell_type": "code",
   "execution_count": 3,
   "id": "87a9c990",
   "metadata": {},
   "outputs": [],
   "source": [
    "def test(f):\n",
    "    test1 = f(s = \"anagram\", t = \"nagaram\")==True\n",
    "    test2 = f(s = \"rat\", t = \"car\")==False\n",
    "    \n",
    "    return test1 and test2"
   ]
  },
  {
   "cell_type": "code",
   "execution_count": 4,
   "id": "263859e5",
   "metadata": {},
   "outputs": [
    {
     "data": {
      "text/plain": [
       "True"
      ]
     },
     "execution_count": 4,
     "metadata": {},
     "output_type": "execute_result"
    }
   ],
   "source": [
    "test(isAnagram)"
   ]
  },
  {
   "cell_type": "code",
   "execution_count": null,
   "id": "f87ef411",
   "metadata": {},
   "outputs": [],
   "source": []
  }
 ],
 "metadata": {
  "kernelspec": {
   "display_name": "Python [conda env:.conda-nanoGPT] *",
   "language": "python",
   "name": "conda-env-.conda-nanoGPT-py"
  },
  "language_info": {
   "codemirror_mode": {
    "name": "ipython",
    "version": 3
   },
   "file_extension": ".py",
   "mimetype": "text/x-python",
   "name": "python",
   "nbconvert_exporter": "python",
   "pygments_lexer": "ipython3",
   "version": "3.8.18"
  }
 },
 "nbformat": 4,
 "nbformat_minor": 5
}
