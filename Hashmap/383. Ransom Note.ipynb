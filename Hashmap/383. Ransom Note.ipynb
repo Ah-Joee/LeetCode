{
 "cells": [
  {
   "cell_type": "markdown",
   "id": "02e7d941",
   "metadata": {},
   "source": [
    "# Problem"
   ]
  },
  {
   "cell_type": "markdown",
   "id": "b2e291ed",
   "metadata": {},
   "source": [
    "Given two strings `ransomNote` and `magazine`, return `true` if `ransomNote` can be constructed by using the letters from `magazine` and `false` otherwise."
   ]
  },
  {
   "cell_type": "markdown",
   "id": "7d3ca45f",
   "metadata": {},
   "source": [
    "Each letter in `magazine` can only be used once in `ransomNote`."
   ]
  },
  {
   "cell_type": "markdown",
   "id": "a40590ea",
   "metadata": {},
   "source": [
    "# Example"
   ]
  },
  {
   "cell_type": "markdown",
   "id": "00d0063d",
   "metadata": {},
   "source": [
    "**Input**: ransomNote = \"a\", magazine = \"b\"\\\n",
    "**Output**: false"
   ]
  },
  {
   "cell_type": "markdown",
   "id": "f188ca10",
   "metadata": {},
   "source": [
    "**Input**: ransomNote = \"aa\", magazine = \"ab\"\\\n",
    "**Output**: false"
   ]
  },
  {
   "cell_type": "markdown",
   "id": "5f698b7d",
   "metadata": {},
   "source": [
    "**Input**: ransomNote = \"aa\", maganize = \"aab\"\\\n",
    "**Output**: true"
   ]
  },
  {
   "cell_type": "markdown",
   "id": "42dd156c",
   "metadata": {},
   "source": [
    "# Solution"
   ]
  },
  {
   "cell_type": "markdown",
   "id": "4bef183c",
   "metadata": {},
   "source": [
    "## Idea"
   ]
  },
  {
   "cell_type": "markdown",
   "id": "74cdd952",
   "metadata": {},
   "source": [
    "## Code"
   ]
  },
  {
   "cell_type": "code",
   "execution_count": 1,
   "id": "8c27588c",
   "metadata": {},
   "outputs": [],
   "source": [
    "def canConstruct(ransomeNote, magazine):\n",
    "    ransomeNote = list(ransomeNote)\n",
    "    magazine = list(magazine)\n",
    "    \n",
    "    for char in magazine:\n",
    "        if char in magazine:\n",
    "            magazine.remove(char)\n",
    "        else:\n",
    "            return False\n",
    "    return True"
   ]
  },
  {
   "cell_type": "markdown",
   "id": "6294e370",
   "metadata": {},
   "source": [
    "## Test"
   ]
  },
  {
   "cell_type": "code",
   "execution_count": 6,
   "id": "1110af39",
   "metadata": {},
   "outputs": [],
   "source": [
    "def test(f):\n",
    "    test1 = f(\"a\",\"b\")==False\n",
    "    test2 = f(\"aa\", \"ab\")==False\n",
    "    test3 = f(\"aa\", \"aab\") == True\n",
    "    \n",
    "    print('test1: ', test1)\n",
    "    print('test2: ', test2)\n",
    "    print('test3: ',  test3)\n",
    "    \n",
    "    return test1 and test2 and test3"
   ]
  },
  {
   "cell_type": "code",
   "execution_count": 7,
   "id": "e01eb434",
   "metadata": {},
   "outputs": [
    {
     "name": "stdout",
     "output_type": "stream",
     "text": [
      "test1:  False\n",
      "test2:  False\n",
      "test3:  True\n"
     ]
    },
    {
     "data": {
      "text/plain": [
       "False"
      ]
     },
     "execution_count": 7,
     "metadata": {},
     "output_type": "execute_result"
    }
   ],
   "source": [
    "test(canConstruct)"
   ]
  },
  {
   "cell_type": "code",
   "execution_count": null,
   "id": "3af27af8",
   "metadata": {},
   "outputs": [],
   "source": []
  }
 ],
 "metadata": {
  "kernelspec": {
   "display_name": "Python [conda env:.conda-nanoGPT] *",
   "language": "python",
   "name": "conda-env-.conda-nanoGPT-py"
  },
  "language_info": {
   "codemirror_mode": {
    "name": "ipython",
    "version": 3
   },
   "file_extension": ".py",
   "mimetype": "text/x-python",
   "name": "python",
   "nbconvert_exporter": "python",
   "pygments_lexer": "ipython3",
   "version": "3.8.18"
  }
 },
 "nbformat": 4,
 "nbformat_minor": 5
}
