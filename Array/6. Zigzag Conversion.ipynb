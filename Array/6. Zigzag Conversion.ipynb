{
 "cells": [
  {
   "cell_type": "markdown",
   "id": "b6911d30",
   "metadata": {},
   "source": [
    "# Problem"
   ]
  },
  {
   "cell_type": "markdown",
   "id": "4e92ed09",
   "metadata": {},
   "source": [
    "The string `\"PAYPALISHIRING\"` is written in a zigzag pattern on a given number of rows like this:"
   ]
  },
  {
   "cell_type": "markdown",
   "id": "bb971f21",
   "metadata": {},
   "source": [
    "P $\\space{}$ A $\\space{}$ H $\\space{}$ N\n",
    "<br>\n",
    "A P L S I I G\n",
    "<br>\n",
    "Y $\\space{}$ I $\\space{}$ R\n"
   ]
  },
  {
   "cell_type": "markdown",
   "id": "f576380f",
   "metadata": {},
   "source": [
    "And then read line by line: `\"PAHNAPLSIIGYIR\"`"
   ]
  },
  {
   "cell_type": "markdown",
   "id": "5f9cce29",
   "metadata": {},
   "source": [
    "Write the code that will take a string and make this conversion given a number of rows:"
   ]
  },
  {
   "cell_type": "markdown",
   "id": "12d99b06",
   "metadata": {},
   "source": [
    "# Example"
   ]
  },
  {
   "cell_type": "markdown",
   "id": "4596c5d8",
   "metadata": {},
   "source": [
    "**Input**: s = \"PAYPALISHIRING\", numRows = 3\\\n",
    "**Output**: \"PAHNAPLSIIGYIR\""
   ]
  },
  {
   "cell_type": "markdown",
   "id": "b29c3d0e",
   "metadata": {},
   "source": [
    "**Input**: s = \"PAYPALISHIRING\", numRows = 4\\\n",
    "**Output**: \"PINALSIGYAHRPI\""
   ]
  },
  {
   "cell_type": "markdown",
   "id": "ed258135",
   "metadata": {},
   "source": [
    "**Input**: s = \"A\", numRows = 1\\\n",
    "**Output**: \"A\""
   ]
  },
  {
   "cell_type": "markdown",
   "id": "7ad2e682",
   "metadata": {},
   "source": [
    "# Solution"
   ]
  },
  {
   "cell_type": "code",
   "execution_count": 33,
   "id": "f1ed6b32",
   "metadata": {},
   "outputs": [
    {
     "name": "stdout",
     "output_type": "stream",
     "text": [
      "14 3\n"
     ]
    }
   ],
   "source": [
    "s = \"PAYPALISHIRING\"\n",
    "print(len(s), len(s)//4)"
   ]
  },
  {
   "cell_type": "code",
   "execution_count": 63,
   "id": "2baaf085",
   "metadata": {},
   "outputs": [],
   "source": [
    "def convert(s, numRows):\n",
    "    if numRows <= 1: return s\n",
    "    arr = [[] for _ in range(numRows)]\n",
    "    \n",
    "    for idx, i in enumerate(s):\n",
    "        k = idx%(numRows + (numRows-2))\n",
    "        if k < numRows: arr[k].append(i)\n",
    "        else:\n",
    "            k = k-numRows+2\n",
    "            arr[-k].append(i)\n",
    "    \n",
    "    res = \"\"\n",
    "    for a in arr:\n",
    "        res += \"\".join(a)\n",
    "    return res"
   ]
  },
  {
   "cell_type": "code",
   "execution_count": 66,
   "id": "f2b81f98",
   "metadata": {},
   "outputs": [],
   "source": [
    "def test(f):\n",
    "    test1 = f(\"PAYPALISHIRING\", 3)==\"PAHNAPLSIIGYIR\"\n",
    "    test2 = f(\"PAYPALISHIRING\", 4)==\"PINALSIGYAHRPI\"\n",
    "    test3 = f(\"A\", 1)==\"A\"\n",
    "    return test1 and test2"
   ]
  },
  {
   "cell_type": "code",
   "execution_count": 67,
   "id": "2ca6b05a",
   "metadata": {},
   "outputs": [
    {
     "data": {
      "text/plain": [
       "True"
      ]
     },
     "execution_count": 67,
     "metadata": {},
     "output_type": "execute_result"
    }
   ],
   "source": [
    "test(convert)"
   ]
  },
  {
   "cell_type": "code",
   "execution_count": null,
   "id": "c864bc82",
   "metadata": {},
   "outputs": [],
   "source": []
  }
 ],
 "metadata": {
  "kernelspec": {
   "display_name": "Python 3 (ipykernel)",
   "language": "python",
   "name": "python3"
  },
  "language_info": {
   "codemirror_mode": {
    "name": "ipython",
    "version": 3
   },
   "file_extension": ".py",
   "mimetype": "text/x-python",
   "name": "python",
   "nbconvert_exporter": "python",
   "pygments_lexer": "ipython3",
   "version": "3.11.4"
  }
 },
 "nbformat": 4,
 "nbformat_minor": 5
}
