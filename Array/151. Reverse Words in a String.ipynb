{
 "cells": [
  {
   "cell_type": "markdown",
   "id": "24a10f9c",
   "metadata": {},
   "source": [
    "# Problem"
   ]
  },
  {
   "cell_type": "markdown",
   "id": "5173dcb2",
   "metadata": {},
   "source": [
    "Given an input string `s`, reverse the order of the **words**."
   ]
  },
  {
   "cell_type": "markdown",
   "id": "1e06ee5f",
   "metadata": {},
   "source": [
    "A **word** is defined as a sequence of non-space characters. The **words** in `s` will be separated by at least one space."
   ]
  },
  {
   "cell_type": "markdown",
   "id": "9ce1b87b",
   "metadata": {},
   "source": [
    "Return a string of the words in reverse order concatenated by a single space."
   ]
  },
  {
   "cell_type": "markdown",
   "id": "d4cc852e",
   "metadata": {},
   "source": [
    "**Note** that `s` may contain leading or trailing spaces or multiple spaces between two words. The returned string should only have a single space separating the words. Do not include any extra spaces."
   ]
  },
  {
   "cell_type": "markdown",
   "id": "d48893f1",
   "metadata": {},
   "source": [
    "# Example"
   ]
  },
  {
   "cell_type": "markdown",
   "id": "ab495753",
   "metadata": {},
   "source": [
    "**Input**: s = \"the sky is blue\"\\\n",
    "**Output**: \"blue is sky the\""
   ]
  },
  {
   "cell_type": "markdown",
   "id": "47babcca",
   "metadata": {},
   "source": [
    "**Input**: s = \"  hello world  \"\\\n",
    "**Output**: \"world hello\""
   ]
  },
  {
   "cell_type": "markdown",
   "id": "33e1ebaf",
   "metadata": {},
   "source": [
    "**Input**: s = \"a good $\\space{}$  example\"\\\n",
    "**Output**: \"example good a\""
   ]
  },
  {
   "cell_type": "markdown",
   "id": "c0d1aa30",
   "metadata": {},
   "source": [
    "# Solution"
   ]
  },
  {
   "cell_type": "code",
   "execution_count": 1,
   "id": "1bc99fb8",
   "metadata": {},
   "outputs": [],
   "source": [
    "def reverseWords(s):\n",
    "    arr = s.split(\" \")\n",
    "    arr = [i for i in arr if i !=\"\"][::-1]\n",
    "    return \" \".join(arr)"
   ]
  },
  {
   "cell_type": "code",
   "execution_count": 2,
   "id": "a950af59",
   "metadata": {},
   "outputs": [],
   "source": [
    "def test(f):\n",
    "    test1 = f(\"the sky is blue\")==\"blue is sky the\"\n",
    "    test2 = f(\" hello world \")==\"world hello\"\n",
    "    test3 = f(\"a good   example\")==\"example good a\"\n",
    "    return test1 and test2 and test3"
   ]
  },
  {
   "cell_type": "code",
   "execution_count": 3,
   "id": "ea80342e",
   "metadata": {},
   "outputs": [
    {
     "data": {
      "text/plain": [
       "True"
      ]
     },
     "execution_count": 3,
     "metadata": {},
     "output_type": "execute_result"
    }
   ],
   "source": [
    "test(reverseWords)"
   ]
  }
 ],
 "metadata": {
  "kernelspec": {
   "display_name": "Python 3 (ipykernel)",
   "language": "python",
   "name": "python3"
  },
  "language_info": {
   "codemirror_mode": {
    "name": "ipython",
    "version": 3
   },
   "file_extension": ".py",
   "mimetype": "text/x-python",
   "name": "python",
   "nbconvert_exporter": "python",
   "pygments_lexer": "ipython3",
   "version": "3.11.4"
  }
 },
 "nbformat": 4,
 "nbformat_minor": 5
}
