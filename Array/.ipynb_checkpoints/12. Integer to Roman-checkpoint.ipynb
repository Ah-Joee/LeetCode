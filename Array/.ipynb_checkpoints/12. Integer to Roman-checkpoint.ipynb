{
 "cells": [
  {
   "cell_type": "markdown",
   "id": "b7a1f00b",
   "metadata": {},
   "source": [
    "# Problem"
   ]
  },
  {
   "cell_type": "markdown",
   "id": "12f96590",
   "metadata": {},
   "source": [
    "Roman numerals are represented by seven different symbols: `I`, `V`, `X`, `L`, `C`, `D` and `M`."
   ]
  },
  {
   "cell_type": "markdown",
   "id": "b2175aed",
   "metadata": {},
   "source": [
    "Given an integer, convert it to a roman numberal."
   ]
  },
  {
   "cell_type": "markdown",
   "id": "fb2659d1",
   "metadata": {},
   "source": [
    "# Example"
   ]
  },
  {
   "cell_type": "markdown",
   "id": "b35369ba",
   "metadata": {},
   "source": [
    "**Input**: num = 3\\\n",
    "**Output**: \"III\""
   ]
  },
  {
   "cell_type": "markdown",
   "id": "53b8b06a",
   "metadata": {},
   "source": [
    "**Input**: num = 58\\\n",
    "**Output**: \"LVIII\""
   ]
  },
  {
   "cell_type": "markdown",
   "id": "f211c171",
   "metadata": {},
   "source": [
    "**Input**: num = 1994\\\n",
    "**Output**: \"MCMXCIV\""
   ]
  },
  {
   "cell_type": "markdown",
   "id": "26210db5",
   "metadata": {},
   "source": [
    "# Solution"
   ]
  },
  {
   "cell_type": "markdown",
   "id": "4608caf6",
   "metadata": {},
   "source": [
    "## Code"
   ]
  },
  {
   "cell_type": "code",
   "execution_count": 2,
   "id": "6e6b58dd",
   "metadata": {},
   "outputs": [],
   "source": [
    "def intToRoman(num):\n",
    "    M=['','M','MM','MMM']\n",
    "    C=['','C','CC','CCC','CD','D','DC','DCC','DCCC','CM']\n",
    "    X=['','X','XX','XXX','XL','L','LX','LXX','LXXX','XC']\n",
    "    I=['','I','II','III','IV','V','VI','VII','VIII','IX']\n",
    "    return M[num//1000]+C[num%1000//100]+X[num%100//10]+I[num%10]"
   ]
  },
  {
   "cell_type": "code",
   "execution_count": 3,
   "id": "455c163b",
   "metadata": {},
   "outputs": [],
   "source": [
    "def test(f):\n",
    "    test1 = f(3)=='III'\n",
    "    test2 = f(58) == 'LVIII'\n",
    "    test3 = f(1994)=='MCMXCIV'\n",
    "    return test1 and test2 and test3"
   ]
  },
  {
   "cell_type": "code",
   "execution_count": 4,
   "id": "873392d4",
   "metadata": {},
   "outputs": [
    {
     "data": {
      "text/plain": [
       "True"
      ]
     },
     "execution_count": 4,
     "metadata": {},
     "output_type": "execute_result"
    }
   ],
   "source": [
    "test(intToRoman)"
   ]
  }
 ],
 "metadata": {
  "kernelspec": {
   "display_name": "Python 3 (ipykernel)",
   "language": "python",
   "name": "python3"
  },
  "language_info": {
   "codemirror_mode": {
    "name": "ipython",
    "version": 3
   },
   "file_extension": ".py",
   "mimetype": "text/x-python",
   "name": "python",
   "nbconvert_exporter": "python",
   "pygments_lexer": "ipython3",
   "version": "3.11.4"
  }
 },
 "nbformat": 4,
 "nbformat_minor": 5
}
