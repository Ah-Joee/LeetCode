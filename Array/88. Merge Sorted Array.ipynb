{
 "cells": [
  {
   "cell_type": "markdown",
   "id": "8483de37",
   "metadata": {},
   "source": [
    "# Problem"
   ]
  },
  {
   "cell_type": "markdown",
   "id": "e73e2d96",
   "metadata": {},
   "source": [
    "You are given two integer arrays `nums1` and `nums2`, sorted in **non-decreasing order**, and two integers `m` and `n`, representing the number of elements in `nums1` and `nums2` respectively."
   ]
  },
  {
   "cell_type": "markdown",
   "id": "92e48a9e",
   "metadata": {},
   "source": [
    "**Merge** `nums1` and `nums2` inteo a single array sorted in **non-decreasing order**."
   ]
  },
  {
   "cell_type": "markdown",
   "id": "d0b404c3",
   "metadata": {},
   "source": [
    "The final sorted array should not be returned by the function, but instead be stored inside the array `nums1`. To accomodate this, `nums1` has a length of `m+n`, where the first `m` elements denote the elements that should be merged, and the last `n` elements are set to `0` and should be ignored. `nums2` has a length of `n`."
   ]
  },
  {
   "cell_type": "markdown",
   "id": "5fc48a2e",
   "metadata": {},
   "source": [
    "# Example"
   ]
  },
  {
   "cell_type": "markdown",
   "id": "1d4120dd",
   "metadata": {},
   "source": [
    "**Input**: nums1 = [1,2,3,0,0,0], m = 3, nums2 = [2,5,6], n = 3\\\n",
    "**Output**: [1,2,3,5,6]\\\n",
    "**Explanation**: The arrays we are merging are [1,2,3] and [2,5,6]. The result of the merge is [$\\underline{1},\\underline{2},2,\\underline{3},5,6$] with the underlined elements coming from nums1."
   ]
  },
  {
   "cell_type": "markdown",
   "id": "f4f8cf13",
   "metadata": {},
   "source": [
    "**Input**: nums1 = [1], m = 1, nums2 = [], n = 0\\\n",
    "**Output**: [1]\\\n",
    "**Explanation**: The arrays we are merging are [1] and []. The result of the merge is [1]."
   ]
  },
  {
   "cell_type": "markdown",
   "id": "eaf8cd8b",
   "metadata": {},
   "source": [
    "# Solution"
   ]
  },
  {
   "cell_type": "markdown",
   "id": "a55db3bd",
   "metadata": {},
   "source": [
    "## Idea"
   ]
  },
  {
   "cell_type": "markdown",
   "id": "67f484b5",
   "metadata": {},
   "source": [
    "Slice the `nums1` and combine with `nums2` so that the first `m` elements will be from `nums1` and the next `n` elements will be from `nums2`. Then sort thhis array."
   ]
  },
  {
   "cell_type": "markdown",
   "id": "440ac3e5",
   "metadata": {},
   "source": [
    "## Code"
   ]
  },
  {
   "cell_type": "code",
   "execution_count": 2,
   "id": "04e974b2",
   "metadata": {},
   "outputs": [],
   "source": [
    "def merge(nums1, m, nums2, n):\n",
    "    nums1[:] = nums1[:m] + nums2[:]\n",
    "    return nums1"
   ]
  },
  {
   "cell_type": "markdown",
   "id": "c848e8cb",
   "metadata": {},
   "source": [
    "## Test"
   ]
  },
  {
   "cell_type": "code",
   "execution_count": null,
   "id": "92552472",
   "metadata": {},
   "outputs": [],
   "source": [
    "def test(f):\n",
    "    test1 = f([1,2,3,0,0,0], 3, [2,5,6], 3)==[1,2,2,3,5,6]\n",
    "    test2 = f([1], 1, [], 0)==[1]\n",
    "    test3 = f([], 0, [], 0)==[]\n",
    "    test4 = f([1,0], 1, [1], 1)==[1,1]\n",
    "    return test1 "
   ]
  }
 ],
 "metadata": {
  "kernelspec": {
   "display_name": "Python [conda env:.conda-nanoGPT] *",
   "language": "python",
   "name": "conda-env-.conda-nanoGPT-py"
  },
  "language_info": {
   "codemirror_mode": {
    "name": "ipython",
    "version": 3
   },
   "file_extension": ".py",
   "mimetype": "text/x-python",
   "name": "python",
   "nbconvert_exporter": "python",
   "pygments_lexer": "ipython3",
   "version": "3.8.18"
  }
 },
 "nbformat": 4,
 "nbformat_minor": 5
}
