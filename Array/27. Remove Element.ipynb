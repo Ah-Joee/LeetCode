{
 "cells": [
  {
   "cell_type": "markdown",
   "id": "2b269632",
   "metadata": {},
   "source": [
    "# Problem"
   ]
  },
  {
   "cell_type": "markdown",
   "id": "76210728",
   "metadata": {},
   "source": [
    "Given an integer array `nums` and an integer `val`, remove all occurences of `val` in `nums` **in-place**. The order of the elements may be changed. Then return the *number of elements** in `nums` which are not equal to `val`."
   ]
  },
  {
   "cell_type": "markdown",
   "id": "2ef2d488",
   "metadata": {},
   "source": [
    "Consider the number of elements in `nums` which are not equal to`val` be `k`, to get accepted, you need to do the following things:\n",
    "1. Change the array `nums` such that the first `k` elements of `nums` contain the elements which are not equal to `val`. The remaining elements of `nums` are not importatn as well as the size of `nums`.\n",
    "2. Return `k`."
   ]
  },
  {
   "cell_type": "markdown",
   "id": "cfb12c94",
   "metadata": {},
   "source": [
    "# Example"
   ]
  },
  {
   "cell_type": "markdown",
   "id": "d9493da5",
   "metadata": {},
   "source": [
    "**Input**: nums=[3,2,2,3], val = 3\\\n",
    "**Output**: 2, nums = [$2,2,\\underline{ }, \\underline{ }$]\\\n",
    "**Explanation**: Your function should return k=2, with the first two elemetns of nums being 2. It does not matter what you leave beyond the returned k (hence they are underscores)."
   ]
  },
  {
   "cell_type": "markdown",
   "id": "6dafae30",
   "metadata": {},
   "source": [
    "**Input**: nums=[0,1,2,2,3,0,4,2], val = 2\\\n",
    "**Output**: 5, nums = [$0,1,4,0,3,\\underline{ },\\underline{ }$]\\\n",
    "**Explanation**: Your function should return k = 5, with the first five elements of nums containing 0, 0, 1, 3, and 4.\n",
    "Note that the five elements can be returned in any order.\n",
    "It does not matter what you leave beyond the returned k (hence they are underscores)."
   ]
  },
  {
   "cell_type": "markdown",
   "id": "32a6204a",
   "metadata": {},
   "source": [
    "# Solution"
   ]
  },
  {
   "cell_type": "markdown",
   "id": "5fb94bbe",
   "metadata": {},
   "source": [
    "## Idea"
   ]
  },
  {
   "cell_type": "markdown",
   "id": "217acdbc",
   "metadata": {},
   "source": [
    "Loop through `nums`, if it is not a target value, assign the value to the positioin and increase the position by 1. Otherwise, move forward without increase the position."
   ]
  },
  {
   "cell_type": "markdown",
   "id": "5a639bd2",
   "metadata": {},
   "source": [
    "## Code"
   ]
  },
  {
   "cell_type": "code",
   "execution_count": 18,
   "id": "cfb074d4",
   "metadata": {},
   "outputs": [],
   "source": [
    "def removeElement(nums, val):\n",
    "    index= 0\n",
    "    for i in range(len(nums)):\n",
    "        if nums[i] != val:\n",
    "            nums[index] = nums[i]\n",
    "            index += 1\n",
    "    return index"
   ]
  },
  {
   "cell_type": "markdown",
   "id": "4c420c42",
   "metadata": {},
   "source": [
    "## Test"
   ]
  },
  {
   "cell_type": "code",
   "execution_count": 20,
   "id": "a0fe458e",
   "metadata": {},
   "outputs": [
    {
     "data": {
      "text/plain": [
       "True"
      ]
     },
     "execution_count": 20,
     "metadata": {},
     "output_type": "execute_result"
    }
   ],
   "source": [
    "def test(f):\n",
    "    test1 = f([3,2,2,3], 3)==2\n",
    "    test2 = f([0,1,2,2,3,0,4,2], 2)==5\n",
    "    return test1 and test2\n",
    "test(removeElement)"
   ]
  }
 ],
 "metadata": {
  "kernelspec": {
   "display_name": "Python [conda env:.conda-nanoGPT] *",
   "language": "python",
   "name": "conda-env-.conda-nanoGPT-py"
  },
  "language_info": {
   "codemirror_mode": {
    "name": "ipython",
    "version": 3
   },
   "file_extension": ".py",
   "mimetype": "text/x-python",
   "name": "python",
   "nbconvert_exporter": "python",
   "pygments_lexer": "ipython3",
   "version": "3.8.18"
  }
 },
 "nbformat": 4,
 "nbformat_minor": 5
}
