{
 "cells": [
  {
   "cell_type": "markdown",
   "id": "92540efb",
   "metadata": {},
   "source": [
    "# Problem"
   ]
  },
  {
   "cell_type": "markdown",
   "id": "b375ed4a",
   "metadata": {},
   "source": [
    "Given an array of integers `citations` where `citations[i]` is the number of the citations of a researcher received for their `ith` paper, return the researcher's h-index."
   ]
  },
  {
   "cell_type": "markdown",
   "id": "0ee80ec1",
   "metadata": {},
   "source": [
    "According to the definition of h-index on Wikipedia: The h-index is defined as the maximum value of `h` such that the given researcher has published at least `h` papers that have each been cited at least `h` times."
   ]
  },
  {
   "cell_type": "markdown",
   "id": "0e1618f3",
   "metadata": {},
   "source": [
    "# Example"
   ]
  },
  {
   "cell_type": "markdown",
   "id": "e10d8db5",
   "metadata": {},
   "source": [
    "**Input**: citations = [3,0,6,1,5]\\\n",
    "**Output**: 3\\\n",
    "**Explanation**: [3,0,6,1,5] means the researcher has 5 papaers in total and each of them had received 3, 0, 6, 1, 5 citations respectively. Since the researrcher has 3 papers with at least 3 citations each and the remaining two with no more than 3 citations each, their h-index is 3."
   ]
  },
  {
   "cell_type": "markdown",
   "id": "5a55eeff",
   "metadata": {},
   "source": [
    "**Input**: citations = [1,3,1]\\\n",
    "**Output**: 1"
   ]
  },
  {
   "cell_type": "markdown",
   "id": "4afd9140",
   "metadata": {},
   "source": [
    "# Solution"
   ]
  },
  {
   "cell_type": "markdown",
   "id": "ac6fb69f",
   "metadata": {},
   "source": [
    "## Idea"
   ]
  },
  {
   "cell_type": "markdown",
   "id": "71215c8d",
   "metadata": {},
   "source": [
    "1. Sort the citations array in ascending order.\n",
    "2. Itereate through the sorted array.\n",
    "3. For each index `i`, check if hte currenct citation count is greater than or equal to the number of remainig paper.\n",
    "4. If condition is met, return the h-index.\n",
    "5. If no h-index is found, return 0."
   ]
  },
  {
   "cell_type": "markdown",
   "id": "074a3d63",
   "metadata": {},
   "source": [
    "## Code"
   ]
  },
  {
   "cell_type": "code",
   "execution_count": 21,
   "id": "032aa4c1",
   "metadata": {},
   "outputs": [],
   "source": [
    "def hIndex(citations):\n",
    "    length = len(citations)\n",
    "    citations.sort()\n",
    "    \n",
    "    for i in range(length):\n",
    "        if citations[i] >= length-i:\n",
    "            return length-i\n",
    "    return 0\n",
    "        "
   ]
  },
  {
   "cell_type": "markdown",
   "id": "916f32cb",
   "metadata": {},
   "source": [
    "## Test"
   ]
  },
  {
   "cell_type": "code",
   "execution_count": 22,
   "id": "f3fbb4de",
   "metadata": {},
   "outputs": [],
   "source": [
    "def test(f):\n",
    "    test1 = f([3,0,6,1,5])==3\n",
    "    test2 = f([1,3,1])==1\n",
    "    test3 = f([3,3,3])==3\n",
    "    test4 = f([0])==0\n",
    "    \n",
    "    return test1 and test2 and test3 and test4"
   ]
  },
  {
   "cell_type": "code",
   "execution_count": 23,
   "id": "c88278df",
   "metadata": {},
   "outputs": [
    {
     "data": {
      "text/plain": [
       "True"
      ]
     },
     "execution_count": 23,
     "metadata": {},
     "output_type": "execute_result"
    }
   ],
   "source": [
    "test(hIndex)"
   ]
  },
  {
   "cell_type": "code",
   "execution_count": null,
   "id": "4230d5f8",
   "metadata": {},
   "outputs": [],
   "source": []
  }
 ],
 "metadata": {
  "kernelspec": {
   "display_name": "Python [conda env:.conda-nanoGPT] *",
   "language": "python",
   "name": "conda-env-.conda-nanoGPT-py"
  },
  "language_info": {
   "codemirror_mode": {
    "name": "ipython",
    "version": 3
   },
   "file_extension": ".py",
   "mimetype": "text/x-python",
   "name": "python",
   "nbconvert_exporter": "python",
   "pygments_lexer": "ipython3",
   "version": "3.8.18"
  }
 },
 "nbformat": 4,
 "nbformat_minor": 5
}
